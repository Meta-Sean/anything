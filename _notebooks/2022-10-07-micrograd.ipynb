{
 "cells": [
  {
   "cell_type": "markdown",
   "id": "a376aa48",
   "metadata": {},
   "source": [
    "# Micrograd 🔧\n",
    "\n",
    "> Spelled-out intro to neural networks and backpropagation\n",
    " \n",
    "- toc: false\n",
    "- branch: master\n",
    "- badges: true\n",
    "- comments: true\n",
    "- categories: [fastpages, jupyter, kaggle]"
   ]
  },
  {
   "cell_type": "markdown",
   "id": "c553f1dd",
   "metadata": {},
   "source": [
    "### A blog implementation of Andrej Karpathy's [micrograd video](https://www.youtube.com/watch?v=VMj-3S1tku0) \n",
    "### Work in progress will continually add to this blog"
   ]
  },
  {
   "cell_type": "markdown",
   "id": "8b9bceaa",
   "metadata": {},
   "source": [
    "**Content:**\n",
    "1. [Derivative of a function](#1)\n",
    "1. [Core Value Object](#2)\n",
    "1. [Manual Backpropagation](#3)\n",
    "1. [Neuron Example](#4)\n",
    "1. [Backward function](#5)\n",
    "1. [More operations](#6)\n",
    "1. [Pytorch](#7)"
   ]
  },
  {
   "cell_type": "markdown",
   "id": "0292ca0a",
   "metadata": {},
   "source": [
    "<a id=1></a>\n",
    "# Lets get an intuitive understanding of what a derivative is"
   ]
  },
  {
   "cell_type": "code",
   "execution_count": 1,
   "id": "2fb8fca8",
   "metadata": {},
   "outputs": [],
   "source": [
    "#basic imports\n",
    "import math\n",
    "import numpy as np\n",
    "import matplotlib.pyplot as plt\n",
    "%matplotlib inline"
   ]
  },
  {
   "cell_type": "markdown",
   "id": "2260a5f1",
   "metadata": {},
   "source": [
    "Lets use a simple quadratic function as an example <br />\n",
    "<br/>\n",
    "## $f(x) = 3x^2 - 4x + 5$\n"
   ]
  },
  {
   "cell_type": "code",
   "execution_count": 2,
   "id": "1fcda76a",
   "metadata": {},
   "outputs": [],
   "source": [
    "def f(x):\n",
    "    return 3*x**2 - 4*x + 5"
   ]
  },
  {
   "cell_type": "code",
   "execution_count": 3,
   "id": "d4dfc1f2",
   "metadata": {},
   "outputs": [
    {
     "data": {
      "text/plain": [
       "20.0"
      ]
     },
     "execution_count": 3,
     "metadata": {},
     "output_type": "execute_result"
    }
   ],
   "source": [
    "f(3.0)"
   ]
  },
  {
   "cell_type": "markdown",
   "id": "a2742766",
   "metadata": {},
   "source": [
    "Take a look at the shape of the function, we can expect a parabola since we know its a quadratic function "
   ]
  },
  {
   "cell_type": "code",
   "execution_count": 4,
   "id": "50b9c156",
   "metadata": {},
   "outputs": [
    {
     "data": {
      "text/plain": [
       "[<matplotlib.lines.Line2D at 0x7fe34e9aef90>]"
      ]
     },
     "execution_count": 4,
     "metadata": {},
     "output_type": "execute_result"
    },
    {
     "data": {
      "image/png": "[encoded data removed]",
      "text/plain": [
       "<Figure size 432x288 with 1 Axes>"
      ]
     },
     "metadata": {
      "needs_background": "light"
     },
     "output_type": "display_data"
    }
   ],
   "source": [
    "# creating a range of x values from -5 to 5 incrementing by 0.25 to pass into our function to generate our y values\n",
    "xs = np.arange(-5, 5, 0.25)\n",
    "ys = f(xs)\n",
    "plt.plot(xs, ys)"
   ]
  },
  {
   "cell_type": "markdown",
   "id": "3cf5b6d4",
   "metadata": {},
   "source": [
    "We know want to think through what is the derivative of this function at different points x, let refresh with the definition of a derivative \n",
    "## $f'(x) = lim_{h \\to 0} \\frac{f(x+h)-f(x)}{h}$ \n",
    "\n",
    "\n",
    "You are basically trying to see the level of sensitivty the function responds with by bumping any x value at any point slightly by this small number h </br>\n",
    "Intuitively how would you expect this function to respond if we nudged x = 3.0 by this small postitive number h? The amount the x value responds tells you the strength of the slope"
   ]
  },
  {
   "cell_type": "code",
   "execution_count": 5,
   "id": "3d176850",
   "metadata": {},
   "outputs": [
    {
     "name": "stdout",
     "output_type": "stream",
     "text": [
      "slope of function at x = 3.0, slope = 14.000300000063248\n"
     ]
    }
   ],
   "source": [
    "h = 0.0001\n",
    "x = 3.0\n",
    "print(f'slope of function at x = {x}, slope = {(f(x + h) - f(x)) / h}')"
   ]
  },
  {
   "cell_type": "markdown",
   "id": "21316802",
   "metadata": {},
   "source": [
    "Lets do a hacky implementation with more variables </br>\n",
    "Look at the function a*b + c in relation to the variables we assigned, imagine if you nudged each variables by a tiny amount would that result in our output being increased or decreased? </br>\n",
    "If we were to slightly nudge each of our input varibles by the tiny amount h(amount approaching 0) we can approximate the instataneous rate of change by looking at the difference before and after over the amount we nudged by, this will give us the slope.\n"
   ]
  },
  {
   "cell_type": "code",
   "execution_count": 6,
   "id": "5e9d3b69",
   "metadata": {},
   "outputs": [
    {
     "name": "stdout",
     "output_type": "stream",
     "text": [
      "d1 4.0\n",
      "d2 3.999699999999999\n",
      "slope -3.000000000010772\n"
     ]
    }
   ],
   "source": [
    "# lets get more complex\n",
    "h = 0.0001\n",
    "#inputs\n",
    "a = 2.0\n",
    "b = -3.0\n",
    "c = 10.0\n",
    "\n",
    "#We wanna find the derivative of d with respect to a,b,c\n",
    "d1 = a*b + c\n",
    "a +=  h\n",
    "d2 = a*b + c\n",
    "print('d1', d1)\n",
    "print('d2', d2)\n",
    "print('slope', (d2 - d1)/h)"
   ]
  },
  {
   "cell_type": "markdown",
   "id": "6bb0a9ad",
   "metadata": {},
   "source": [
    "Lets do it with b now\n"
   ]
  },
  {
   "cell_type": "code",
   "execution_count": 7,
   "id": "4e836fc8",
   "metadata": {},
   "outputs": [
    {
     "name": "stdout",
     "output_type": "stream",
     "text": [
      "d1 3.999699999999999\n",
      "d2 3.99990001\n",
      "slope 2.0001000000124947\n"
     ]
    }
   ],
   "source": [
    "d1 = a*b + c\n",
    "b +=  h\n",
    "d2 = a*b + c\n",
    "print('d1', d1)\n",
    "print('d2', d2)\n",
    "print('slope', (d2 - d1)/h)"
   ]
  },
  {
   "cell_type": "markdown",
   "id": "f4cbf996",
   "metadata": {},
   "source": [
    "And c..."
   ]
  },
  {
   "cell_type": "code",
   "execution_count": 8,
   "id": "b1a93da8",
   "metadata": {},
   "outputs": [
    {
     "name": "stdout",
     "output_type": "stream",
     "text": [
      "d1 3.99990001\n",
      "d2 4.00000001\n",
      "slope 0.9999999999976694\n"
     ]
    }
   ],
   "source": [
    "d1 = a*b + c\n",
    "c +=  h\n",
    "d2 = a*b + c\n",
    "print('d1', d1)\n",
    "print('d2', d2)\n",
    "print('slope', (d2 - d1)/h)"
   ]
  },
  {
   "cell_type": "markdown",
   "id": "26c02754",
   "metadata": {},
   "source": [
    "Hopefully this has helped build an inuitive sense of what this derivative is telling you about the function, but now we want to move to neural networks, which will be massive mathmatical expressions, so we need some structures to maintain these expressions, so we will build out a value object that can keep track of state and allow us to do expressions  "
   ]
  },
  {
   "cell_type": "markdown",
   "id": "39496e0f",
   "metadata": {},
   "source": [
    "<a id=2></a>\n",
    "# Core Value Object"
   ]
  },
  {
   "cell_type": "code",
   "execution_count": 9,
   "id": "5454df0b",
   "metadata": {},
   "outputs": [
    {
     "data": {
      "text/plain": [
       "Value(data=-6.0)"
      ]
     },
     "execution_count": 9,
     "metadata": {},
     "output_type": "execute_result"
    }
   ],
   "source": [
    "class Value:\n",
    "    \n",
    "    def __init__(self, data):\n",
    "        self.data = data\n",
    "        \n",
    "    def __repr__(self):\n",
    "        return f\"Value(data={self.data})\"\n",
    "    \n",
    "    def __add__(self, other):\n",
    "        out = Value(self.data + other.data)\n",
    "        return out\n",
    "    \n",
    "    def __mul__(self, other):\n",
    "        out = Value(self.data * other.data)\n",
    "        return out\n",
    "    \n",
    "a = Value(2.0)\n",
    "b = Value(-3.0)\n",
    "a + b\n",
    "\n",
    "a * b"
   ]
  },
  {
   "cell_type": "markdown",
   "id": "73a743d6",
   "metadata": {},
   "source": [
    "We use double underscore or dunder methods so python knows what to interally when we use operators such as print, +, -, * </br>\n",
    "So when we call ```a + b``` above what is happening interally is ```a.__add__(b)``` with self as a and b as other. Similarly when we do ```a * b```, python is calling ```a.__mul__(b)``` "
   ]
  },
  {
   "cell_type": "markdown",
   "id": "c5a32aef",
   "metadata": {},
   "source": [
    "Cool so now we can do basic arthmetic now we need to add pointers to what see values produce other values and by what operations"
   ]
  },
  {
   "cell_type": "code",
   "execution_count": 10,
   "id": "ab40c8ec",
   "metadata": {},
   "outputs": [
    {
     "data": {
      "text/plain": [
       "Value(data=-8.0)"
      ]
     },
     "execution_count": 10,
     "metadata": {},
     "output_type": "execute_result"
    }
   ],
   "source": [
    "class Value:\n",
    "    \n",
    "    def __init__(self, data, _children=(), _op='', label=''):\n",
    "        self.data = data\n",
    "        self._prev = set(_children)\n",
    "        self._op = _op\n",
    "        self.label = label\n",
    "        self.grad = 0.0\n",
    "        \n",
    "    def __repr__(self):\n",
    "        return f\"Value(data={self.data})\"\n",
    "    \n",
    "    def __add__(self, other):\n",
    "        out = Value(self.data + other.data, (self, other), '+')\n",
    "        return out \n",
    "    \n",
    "    def __mul__(self, other):\n",
    "        out = Value(self.data * other.data, (self, other), '*')\n",
    "        return out\n",
    "    \n",
    "a = Value(2.0, label='a')\n",
    "b = Value(-3.0, label='b')\n",
    "c = Value(10.0, label='c')\n",
    "e = a*b; e.label = 'e'\n",
    "d = e + c; d.label = 'd'\n",
    "f = Value(-2.0, label='f')\n",
    "L = d * f; L.label = 'L'\n",
    "L"
   ]
  },
  {
   "cell_type": "markdown",
   "id": "496925b7",
   "metadata": {},
   "source": [
    "Now that we have the a way to store the parents, labels and operations we can visualize them with an expression graph, code below allows us to do that using a library called graphviz"
   ]
  },
  {
   "cell_type": "code",
   "execution_count": 11,
   "id": "e136a3f1",
   "metadata": {},
   "outputs": [],
   "source": [
    "from graphviz import Digraph\n",
    "\n",
    "def trace(root):\n",
    "  # builds a set of all nodes and edges in a graph\n",
    "  nodes, edges = set(), set()\n",
    "  def build(v):\n",
    "    if v not in nodes:\n",
    "      nodes.add(v)\n",
    "      for child in v._prev:\n",
    "        edges.add((child, v))\n",
    "        build(child)\n",
    "  build(root)\n",
    "  return nodes, edges\n",
    "\n",
    "def draw_dot(root):\n",
    "  dot = Digraph(format='svg', graph_attr={'rankdir': 'LR'}) # LR = left to right\n",
    "  \n",
    "  nodes, edges = trace(root)\n",
    "  for n in nodes:\n",
    "    uid = str(id(n))\n",
    "    # for any value in the graph, create a rectangular ('record') node for it\n",
    "    dot.node(name = uid, label = \"{ %s | data %.4f | grad %.4f}\" % (n.label, n.data, n.grad), shape='record')\n",
    "    if n._op:\n",
    "      # if this value is a result of some operation, create an op node for it\n",
    "      dot.node(name = uid + n._op, label = n._op)\n",
    "      # and connect this node to it\n",
    "      dot.edge(uid + n._op, uid)\n",
    "\n",
    "  for n1, n2 in edges:\n",
    "    # connect n1 to the op node of n2\n",
    "    dot.edge(str(id(n1)), str(id(n2)) + n2._op)\n",
    "\n",
    "  return dot"
   ]
  },
  {
   "cell_type": "code",
   "execution_count": 12,
   "id": "886deeea",
   "metadata": {
    "scrolled": true
   },
   "outputs": [
    {
     "data": {
      "image/svg+xml": [
       "<?xml version=\"1.0\" encoding=\"UTF-8\" standalone=\"no\"?>\n",
       "<!DOCTYPE svg PUBLIC \"-//W3C//DTD SVG 1.1//EN\"\n",
       " \"http://www.w3.org/Graphics/SVG/1.1/DTD/svg11.dtd\">\n",
       "<!-- Generated by graphviz version 2.43.0 (0)\n",
       " -->\n",
       "<!-- Title: %3 Pages: 1 -->\n",
       "<svg width=\"1332pt\" height=\"154pt\"\n",
       " viewBox=\"0.00 0.00 1332.00 154.00\" xmlns=\"http://www.w3.org/2000/svg\" xmlns:xlink=\"http://www.w3.org/1999/xlink\">\n",
       "<g id=\"graph0\" class=\"graph\" transform=\"scale(1 1) rotate(0) translate(4 150)\">\n",
       "<title>%3</title>\n",
       "<polygon fill=\"white\" stroke=\"transparent\" points=\"-4,4 -4,-150 1328,-150 1328,4 -4,4\"/>\n",
       "<!-- 140614114641424 -->\n",
       "<g id=\"node1\" class=\"node\">\n",
       "<title>140614114641424</title>\n",
       "<polygon fill=\"none\" stroke=\"black\" points=\"1087,-81.5 1087,-117.5 1324,-117.5 1324,-81.5 1087,-81.5\"/>\n",
       "<text text-anchor=\"middle\" x=\"1100\" y=\"-95.8\" font-family=\"Times,serif\" font-size=\"14.00\">L</text>\n",
       "<polyline fill=\"none\" stroke=\"black\" points=\"1113,-81.5 1113,-117.5 \"/>\n",
       "<text text-anchor=\"middle\" x=\"1166.5\" y=\"-95.8\" font-family=\"Times,serif\" font-size=\"14.00\">data &#45;8.0000</text>\n",
       "<polyline fill=\"none\" stroke=\"black\" points=\"1220,-81.5 1220,-117.5 \"/>\n",
       "<text text-anchor=\"middle\" x=\"1272\" y=\"-95.8\" font-family=\"Times,serif\" font-size=\"14.00\">grad 0.0000</text>\n",
       "</g>\n",
       "<!-- 140614114641424* -->\n",
       "<g id=\"node2\" class=\"node\">\n",
       "<title>140614114641424*</title>\n",
       "<ellipse fill=\"none\" stroke=\"black\" cx=\"1024\" cy=\"-99.5\" rx=\"27\" ry=\"18\"/>\n",
       "<text text-anchor=\"middle\" x=\"1024\" y=\"-95.8\" font-family=\"Times,serif\" font-size=\"14.00\">*</text>\n",
       "</g>\n",
       "<!-- 140614114641424*&#45;&gt;140614114641424 -->\n",
       "<g id=\"edge1\" class=\"edge\">\n",
       "<title>140614114641424*&#45;&gt;140614114641424</title>\n",
       "<path fill=\"none\" stroke=\"black\" d=\"M1051.1,-99.5C1058.61,-99.5 1067.33,-99.5 1076.75,-99.5\"/>\n",
       "<polygon fill=\"black\" stroke=\"black\" points=\"1076.78,-103 1086.78,-99.5 1076.78,-96 1076.78,-103\"/>\n",
       "</g>\n",
       "<!-- 140614114641488 -->\n",
       "<g id=\"node3\" class=\"node\">\n",
       "<title>140614114641488</title>\n",
       "<polygon fill=\"none\" stroke=\"black\" points=\"728,-109.5 728,-145.5 961,-145.5 961,-109.5 728,-109.5\"/>\n",
       "<text text-anchor=\"middle\" x=\"739\" y=\"-123.8\" font-family=\"Times,serif\" font-size=\"14.00\">f</text>\n",
       "<polyline fill=\"none\" stroke=\"black\" points=\"750,-109.5 750,-145.5 \"/>\n",
       "<text text-anchor=\"middle\" x=\"803.5\" y=\"-123.8\" font-family=\"Times,serif\" font-size=\"14.00\">data &#45;2.0000</text>\n",
       "<polyline fill=\"none\" stroke=\"black\" points=\"857,-109.5 857,-145.5 \"/>\n",
       "<text text-anchor=\"middle\" x=\"909\" y=\"-123.8\" font-family=\"Times,serif\" font-size=\"14.00\">grad 0.0000</text>\n",
       "</g>\n",
       "<!-- 140614114641488&#45;&gt;140614114641424* -->\n",
       "<g id=\"edge8\" class=\"edge\">\n",
       "<title>140614114641488&#45;&gt;140614114641424*</title>\n",
       "<path fill=\"none\" stroke=\"black\" d=\"M959.67,-109.49C969.61,-107.92 979.08,-106.43 987.53,-105.1\"/>\n",
       "<polygon fill=\"black\" stroke=\"black\" points=\"988.31,-108.52 997.64,-103.5 987.22,-101.6 988.31,-108.52\"/>\n",
       "</g>\n",
       "<!-- 140614114647248 -->\n",
       "<g id=\"node4\" class=\"node\">\n",
       "<title>140614114647248</title>\n",
       "<polygon fill=\"none\" stroke=\"black\" points=\"363,-82.5 363,-118.5 602,-118.5 602,-82.5 363,-82.5\"/>\n",
       "<text text-anchor=\"middle\" x=\"375\" y=\"-96.8\" font-family=\"Times,serif\" font-size=\"14.00\">c</text>\n",
       "<polyline fill=\"none\" stroke=\"black\" points=\"387,-82.5 387,-118.5 \"/>\n",
       "<text text-anchor=\"middle\" x=\"442.5\" y=\"-96.8\" font-family=\"Times,serif\" font-size=\"14.00\">data 10.0000</text>\n",
       "<polyline fill=\"none\" stroke=\"black\" points=\"498,-82.5 498,-118.5 \"/>\n",
       "<text text-anchor=\"middle\" x=\"550\" y=\"-96.8\" font-family=\"Times,serif\" font-size=\"14.00\">grad 0.0000</text>\n",
       "</g>\n",
       "<!-- 140614114641232+ -->\n",
       "<g id=\"node8\" class=\"node\">\n",
       "<title>140614114641232+</title>\n",
       "<ellipse fill=\"none\" stroke=\"black\" cx=\"665\" cy=\"-72.5\" rx=\"27\" ry=\"18\"/>\n",
       "<text text-anchor=\"middle\" x=\"665\" y=\"-68.8\" font-family=\"Times,serif\" font-size=\"14.00\">+</text>\n",
       "</g>\n",
       "<!-- 140614114647248&#45;&gt;140614114641232+ -->\n",
       "<g id=\"edge9\" class=\"edge\">\n",
       "<title>140614114647248&#45;&gt;140614114641232+</title>\n",
       "<path fill=\"none\" stroke=\"black\" d=\"M599.6,-82.49C609.91,-80.89 619.74,-79.37 628.46,-78.01\"/>\n",
       "<polygon fill=\"black\" stroke=\"black\" points=\"629.18,-81.44 638.52,-76.45 628.1,-74.53 629.18,-81.44\"/>\n",
       "</g>\n",
       "<!-- 140614114647312 -->\n",
       "<g id=\"node5\" class=\"node\">\n",
       "<title>140614114647312</title>\n",
       "<polygon fill=\"none\" stroke=\"black\" points=\"364.5,-27.5 364.5,-63.5 600.5,-63.5 600.5,-27.5 364.5,-27.5\"/>\n",
       "<text text-anchor=\"middle\" x=\"377\" y=\"-41.8\" font-family=\"Times,serif\" font-size=\"14.00\">e</text>\n",
       "<polyline fill=\"none\" stroke=\"black\" points=\"389.5,-27.5 389.5,-63.5 \"/>\n",
       "<text text-anchor=\"middle\" x=\"443\" y=\"-41.8\" font-family=\"Times,serif\" font-size=\"14.00\">data &#45;6.0000</text>\n",
       "<polyline fill=\"none\" stroke=\"black\" points=\"496.5,-27.5 496.5,-63.5 \"/>\n",
       "<text text-anchor=\"middle\" x=\"548.5\" y=\"-41.8\" font-family=\"Times,serif\" font-size=\"14.00\">grad 0.0000</text>\n",
       "</g>\n",
       "<!-- 140614114647312&#45;&gt;140614114641232+ -->\n",
       "<g id=\"edge7\" class=\"edge\">\n",
       "<title>140614114647312&#45;&gt;140614114641232+</title>\n",
       "<path fill=\"none\" stroke=\"black\" d=\"M600.62,-63.02C610.5,-64.5 619.9,-65.9 628.3,-67.16\"/>\n",
       "<polygon fill=\"black\" stroke=\"black\" points=\"627.95,-70.65 638.36,-68.66 628.99,-63.72 627.95,-70.65\"/>\n",
       "</g>\n",
       "<!-- 140614114647312* -->\n",
       "<g id=\"node6\" class=\"node\">\n",
       "<title>140614114647312*</title>\n",
       "<ellipse fill=\"none\" stroke=\"black\" cx=\"300\" cy=\"-45.5\" rx=\"27\" ry=\"18\"/>\n",
       "<text text-anchor=\"middle\" x=\"300\" y=\"-41.8\" font-family=\"Times,serif\" font-size=\"14.00\">*</text>\n",
       "</g>\n",
       "<!-- 140614114647312*&#45;&gt;140614114647312 -->\n",
       "<g id=\"edge2\" class=\"edge\">\n",
       "<title>140614114647312*&#45;&gt;140614114647312</title>\n",
       "<path fill=\"none\" stroke=\"black\" d=\"M327.25,-45.5C335.09,-45.5 344.27,-45.5 354.17,-45.5\"/>\n",
       "<polygon fill=\"black\" stroke=\"black\" points=\"354.28,-49 364.28,-45.5 354.28,-42 354.28,-49\"/>\n",
       "</g>\n",
       "<!-- 140614114641232 -->\n",
       "<g id=\"node7\" class=\"node\">\n",
       "<title>140614114641232</title>\n",
       "<polygon fill=\"none\" stroke=\"black\" points=\"728.5,-54.5 728.5,-90.5 960.5,-90.5 960.5,-54.5 728.5,-54.5\"/>\n",
       "<text text-anchor=\"middle\" x=\"741.5\" y=\"-68.8\" font-family=\"Times,serif\" font-size=\"14.00\">d</text>\n",
       "<polyline fill=\"none\" stroke=\"black\" points=\"754.5,-54.5 754.5,-90.5 \"/>\n",
       "<text text-anchor=\"middle\" x=\"805.5\" y=\"-68.8\" font-family=\"Times,serif\" font-size=\"14.00\">data 4.0000</text>\n",
       "<polyline fill=\"none\" stroke=\"black\" points=\"856.5,-54.5 856.5,-90.5 \"/>\n",
       "<text text-anchor=\"middle\" x=\"908.5\" y=\"-68.8\" font-family=\"Times,serif\" font-size=\"14.00\">grad 0.0000</text>\n",
       "</g>\n",
       "<!-- 140614114641232&#45;&gt;140614114641424* -->\n",
       "<g id=\"edge6\" class=\"edge\">\n",
       "<title>140614114641232&#45;&gt;140614114641424*</title>\n",
       "<path fill=\"none\" stroke=\"black\" d=\"M960.92,-90.06C970.4,-91.5 979.44,-92.87 987.54,-94.11\"/>\n",
       "<polygon fill=\"black\" stroke=\"black\" points=\"987.19,-97.59 997.6,-95.64 988.24,-90.67 987.19,-97.59\"/>\n",
       "</g>\n",
       "<!-- 140614114641232+&#45;&gt;140614114641232 -->\n",
       "<g id=\"edge3\" class=\"edge\">\n",
       "<title>140614114641232+&#45;&gt;140614114641232</title>\n",
       "<path fill=\"none\" stroke=\"black\" d=\"M692.19,-72.5C699.78,-72.5 708.61,-72.5 718.11,-72.5\"/>\n",
       "<polygon fill=\"black\" stroke=\"black\" points=\"718.24,-76 728.24,-72.5 718.24,-69 718.24,-76\"/>\n",
       "</g>\n",
       "<!-- 140614114640720 -->\n",
       "<g id=\"node9\" class=\"node\">\n",
       "<title>140614114640720</title>\n",
       "<polygon fill=\"none\" stroke=\"black\" points=\"3,-55.5 3,-91.5 234,-91.5 234,-55.5 3,-55.5\"/>\n",
       "<text text-anchor=\"middle\" x=\"15.5\" y=\"-69.8\" font-family=\"Times,serif\" font-size=\"14.00\">a</text>\n",
       "<polyline fill=\"none\" stroke=\"black\" points=\"28,-55.5 28,-91.5 \"/>\n",
       "<text text-anchor=\"middle\" x=\"79\" y=\"-69.8\" font-family=\"Times,serif\" font-size=\"14.00\">data 2.0000</text>\n",
       "<polyline fill=\"none\" stroke=\"black\" points=\"130,-55.5 130,-91.5 \"/>\n",
       "<text text-anchor=\"middle\" x=\"182\" y=\"-69.8\" font-family=\"Times,serif\" font-size=\"14.00\">grad 0.0000</text>\n",
       "</g>\n",
       "<!-- 140614114640720&#45;&gt;140614114647312* -->\n",
       "<g id=\"edge4\" class=\"edge\">\n",
       "<title>140614114640720&#45;&gt;140614114647312*</title>\n",
       "<path fill=\"none\" stroke=\"black\" d=\"M234.2,-55.61C244.76,-53.96 254.83,-52.39 263.74,-51\"/>\n",
       "<polygon fill=\"black\" stroke=\"black\" points=\"264.3,-54.46 273.64,-49.46 263.22,-47.54 264.3,-54.46\"/>\n",
       "</g>\n",
       "<!-- 140614114640784 -->\n",
       "<g id=\"node10\" class=\"node\">\n",
       "<title>140614114640784</title>\n",
       "<polygon fill=\"none\" stroke=\"black\" points=\"0,-0.5 0,-36.5 237,-36.5 237,-0.5 0,-0.5\"/>\n",
       "<text text-anchor=\"middle\" x=\"13\" y=\"-14.8\" font-family=\"Times,serif\" font-size=\"14.00\">b</text>\n",
       "<polyline fill=\"none\" stroke=\"black\" points=\"26,-0.5 26,-36.5 \"/>\n",
       "<text text-anchor=\"middle\" x=\"79.5\" y=\"-14.8\" font-family=\"Times,serif\" font-size=\"14.00\">data &#45;3.0000</text>\n",
       "<polyline fill=\"none\" stroke=\"black\" points=\"133,-0.5 133,-36.5 \"/>\n",
       "<text text-anchor=\"middle\" x=\"185\" y=\"-14.8\" font-family=\"Times,serif\" font-size=\"14.00\">grad 0.0000</text>\n",
       "</g>\n",
       "<!-- 140614114640784&#45;&gt;140614114647312* -->\n",
       "<g id=\"edge5\" class=\"edge\">\n",
       "<title>140614114640784&#45;&gt;140614114647312*</title>\n",
       "<path fill=\"none\" stroke=\"black\" d=\"M237.23,-36.21C246.6,-37.62 255.52,-38.96 263.52,-40.16\"/>\n",
       "<polygon fill=\"black\" stroke=\"black\" points=\"263.06,-43.63 273.47,-41.66 264.1,-36.71 263.06,-43.63\"/>\n",
       "</g>\n",
       "</g>\n",
       "</svg>\n"
      ],
      "text/plain": [
       "<graphviz.graphs.Digraph at 0x7fe3465a92d0>"
      ]
     },
     "execution_count": 12,
     "metadata": {},
     "output_type": "execute_result"
    }
   ],
   "source": [
    "draw_dot(L)"
   ]
  },
  {
   "cell_type": "markdown",
   "id": "79ddc209",
   "metadata": {},
   "source": []
  },
  {
   "cell_type": "markdown",
   "id": "4fd955db",
   "metadata": {},
   "source": [
    "Lets recap:\n",
    "- we are able to build out mathematical expressions using + and *\n",
    "- Added and tracked grad so we can calculate and update this state later when we do backpropagtion\n",
    "- Forward pass that produces output L and visualized\n",
    "- Now we want to do backpropagation"
   ]
  },
  {
   "cell_type": "markdown",
   "id": "e1e720d9",
   "metadata": {},
   "source": [
    "<a id=3></a>\n",
    "# Manual Backpropagation"
   ]
  },
  {
   "cell_type": "markdown",
   "id": "abf4b0ca",
   "metadata": {},
   "source": [
    "Lets manually nudge the variable a and manually calculate the derivative of L with respect to a, lets create a gating function lol so we don't pollute the global scope. We can do this for each variable to calculate their derivative with respect to L"
   ]
  },
  {
   "cell_type": "markdown",
   "id": "802caa6e",
   "metadata": {},
   "source": [
    "![image.png](https://i.imgur.com/c53qrkN.png)"
   ]
  },
  {
   "cell_type": "markdown",
   "id": "e2b0dbee",
   "metadata": {},
   "source": [
    "### $L = d * f$\n",
    "### $\\frac{dL}{dd} =? f$\n",
    "### $lim_{h \\to 0} \\frac{(d+h)*f - d*f}{h}$ \n",
    "### $lim_{h \\to 0} \\frac{d*f + h*f - d*f}{h}$ \n",
    "### $lim_{h \\to 0} \\frac{h*f}{h}$ \n",
    "### $f$ \n",
    "So we can see that d.grad is just the value of f which is -2.0 and by the property of symmetry f.grad is just the value of d which is 4.0, lets go ahead and manually set these"
   ]
  },
  {
   "cell_type": "code",
   "execution_count": 13,
   "id": "ab78ed23",
   "metadata": {},
   "outputs": [],
   "source": [
    "f.grad = 4.0\n",
    "d.grad = -2.0"
   ]
  },
  {
   "cell_type": "code",
   "execution_count": 14,
   "id": "9a305caf",
   "metadata": {},
   "outputs": [],
   "source": [
    "L.grad = 1"
   ]
  },
  {
   "cell_type": "code",
   "execution_count": 15,
   "id": "585825a0",
   "metadata": {},
   "outputs": [
    {
     "name": "stdout",
     "output_type": "stream",
     "text": [
      "-1.9999999999953388\n"
     ]
    }
   ],
   "source": [
    "def lol():\n",
    "    \n",
    "    h = 0.0001\n",
    "    \n",
    "    a = Value(2.0, label='a')\n",
    "    b = Value(-3.0, label='b')\n",
    "    c = Value(10.0, label='c')\n",
    "    e = a*b; e.label = 'e'\n",
    "    d = e + c; d.label = 'd'\n",
    "    f = Value(-2.0, label='f')\n",
    "    L = d * f; L.label = 'L'\n",
    "    L1 = L.data\n",
    "    \n",
    "    # this is the variable we are nudging by h\n",
    "    a = Value(2.0 , label='a')\n",
    "    b = Value(-3.0, label='b')\n",
    "    c = Value(10.0, label='c')\n",
    "    e = a*b; e.label = 'e'\n",
    "    d = e + c; d.label = 'd'\n",
    "    d.data += h\n",
    "    f = Value(-2.0, label='f')\n",
    "    L = d * f; L.label = 'L'\n",
    "    L2 = L.data\n",
    "    \n",
    "    print((L2-L1)/h)\n",
    "lol()"
   ]
  },
  {
   "cell_type": "markdown",
   "id": "c87aa057",
   "metadata": {},
   "source": [
    "So we have just derived the derivates of f and d with respect to L in a step by step way, now next will uncover the core of backpropagation, we want derive the derivative of L with respect to c and e. </br>\n",
    "We now know how L is sensitive to d and we know how e and c are sensitive to d, we can know put that together to figure out how L is sensitive to e and c."
   ]
  },
  {
   "cell_type": "markdown",
   "id": "e085ceed",
   "metadata": {},
   "source": [
    "### If a variable z depends on the variable y, which itself depends on the variable x (that is, y and z are dependent variables), then z depends on x as well, via the intermediate variable y. In this case, the chain rule is expressed as\n",
    "# $\\frac{dz}{dx} = \\frac{dz}{dy} * \\frac{dy}{dx}$\n",
    "The chain rule is fundamentally telling you how we chain these derivatives together correctly so to differentiate through a function composition we have to apply a multiplication of those derivatives </br>\n",
    "```The inuitive explanation here is that knowing the instantaneous rate of change of z with respect to y and y relative to x allows one to calculate the instantaneous rate of change of z```"
   ]
  },
  {
   "cell_type": "markdown",
   "id": "f11a3834",
   "metadata": {},
   "source": [
    "### If a car travels twice as fast as a bicyle and the cycle is four times as fast as a walking man then the car is 2 * 4 = 8 times faster than the man </br>\n",
    "We know the derivative of $\\frac{dL}{dd}$ and $\\frac{dd}{dc}$ and want to find $\\frac{dL}{dc}$ the chain rule tells us that $\\frac{dL}{dc} = \\frac{dL}{dd} * \\frac{dd}{dc}$  \n",
    "$1.0 * -2.0 = -2.0$"
   ]
  },
  {
   "cell_type": "markdown",
   "id": "1d32d445",
   "metadata": {},
   "source": [
    "The chain rule is telling us for plus nodes \"+\" we are just routing the gradient because the local derivative is just 1.0"
   ]
  },
  {
   "cell_type": "code",
   "execution_count": 16,
   "id": "4a7b1103",
   "metadata": {},
   "outputs": [],
   "source": [
    "e.grad = -2.0\n",
    "c.grad = -2.0"
   ]
  },
  {
   "cell_type": "code",
   "execution_count": 17,
   "id": "c3d82476",
   "metadata": {},
   "outputs": [
    {
     "data": {
      "image/svg+xml": [
       "<?xml version=\"1.0\" encoding=\"UTF-8\" standalone=\"no\"?>\n",
       "<!DOCTYPE svg PUBLIC \"-//W3C//DTD SVG 1.1//EN\"\n",
       " \"http://www.w3.org/Graphics/SVG/1.1/DTD/svg11.dtd\">\n",
       "<!-- Generated by graphviz version 2.43.0 (0)\n",
       " -->\n",
       "<!-- Title: %3 Pages: 1 -->\n",
       "<svg width=\"1339pt\" height=\"154pt\"\n",
       " viewBox=\"0.00 0.00 1339.00 154.00\" xmlns=\"http://www.w3.org/2000/svg\" xmlns:xlink=\"http://www.w3.org/1999/xlink\">\n",
       "<g id=\"graph0\" class=\"graph\" transform=\"scale(1 1) rotate(0) translate(4 150)\">\n",
       "<title>%3</title>\n",
       "<polygon fill=\"white\" stroke=\"transparent\" points=\"-4,4 -4,-150 1335,-150 1335,4 -4,4\"/>\n",
       "<!-- 140614114641424 -->\n",
       "<g id=\"node1\" class=\"node\">\n",
       "<title>140614114641424</title>\n",
       "<polygon fill=\"none\" stroke=\"black\" points=\"1094,-81.5 1094,-117.5 1331,-117.5 1331,-81.5 1094,-81.5\"/>\n",
       "<text text-anchor=\"middle\" x=\"1107\" y=\"-95.8\" font-family=\"Times,serif\" font-size=\"14.00\">L</text>\n",
       "<polyline fill=\"none\" stroke=\"black\" points=\"1120,-81.5 1120,-117.5 \"/>\n",
       "<text text-anchor=\"middle\" x=\"1173.5\" y=\"-95.8\" font-family=\"Times,serif\" font-size=\"14.00\">data &#45;8.0000</text>\n",
       "<polyline fill=\"none\" stroke=\"black\" points=\"1227,-81.5 1227,-117.5 \"/>\n",
       "<text text-anchor=\"middle\" x=\"1279\" y=\"-95.8\" font-family=\"Times,serif\" font-size=\"14.00\">grad 1.0000</text>\n",
       "</g>\n",
       "<!-- 140614114641424* -->\n",
       "<g id=\"node2\" class=\"node\">\n",
       "<title>140614114641424*</title>\n",
       "<ellipse fill=\"none\" stroke=\"black\" cx=\"1031\" cy=\"-99.5\" rx=\"27\" ry=\"18\"/>\n",
       "<text text-anchor=\"middle\" x=\"1031\" y=\"-95.8\" font-family=\"Times,serif\" font-size=\"14.00\">*</text>\n",
       "</g>\n",
       "<!-- 140614114641424*&#45;&gt;140614114641424 -->\n",
       "<g id=\"edge1\" class=\"edge\">\n",
       "<title>140614114641424*&#45;&gt;140614114641424</title>\n",
       "<path fill=\"none\" stroke=\"black\" d=\"M1058.1,-99.5C1065.61,-99.5 1074.33,-99.5 1083.75,-99.5\"/>\n",
       "<polygon fill=\"black\" stroke=\"black\" points=\"1083.78,-103 1093.78,-99.5 1083.78,-96 1083.78,-103\"/>\n",
       "</g>\n",
       "<!-- 140614114641488 -->\n",
       "<g id=\"node3\" class=\"node\">\n",
       "<title>140614114641488</title>\n",
       "<polygon fill=\"none\" stroke=\"black\" points=\"733.5,-109.5 733.5,-145.5 966.5,-145.5 966.5,-109.5 733.5,-109.5\"/>\n",
       "<text text-anchor=\"middle\" x=\"744.5\" y=\"-123.8\" font-family=\"Times,serif\" font-size=\"14.00\">f</text>\n",
       "<polyline fill=\"none\" stroke=\"black\" points=\"755.5,-109.5 755.5,-145.5 \"/>\n",
       "<text text-anchor=\"middle\" x=\"809\" y=\"-123.8\" font-family=\"Times,serif\" font-size=\"14.00\">data &#45;2.0000</text>\n",
       "<polyline fill=\"none\" stroke=\"black\" points=\"862.5,-109.5 862.5,-145.5 \"/>\n",
       "<text text-anchor=\"middle\" x=\"914.5\" y=\"-123.8\" font-family=\"Times,serif\" font-size=\"14.00\">grad 4.0000</text>\n",
       "</g>\n",
       "<!-- 140614114641488&#45;&gt;140614114641424* -->\n",
       "<g id=\"edge8\" class=\"edge\">\n",
       "<title>140614114641488&#45;&gt;140614114641424*</title>\n",
       "<path fill=\"none\" stroke=\"black\" d=\"M966.13,-109.49C976.27,-107.91 985.92,-106.4 994.51,-105.05\"/>\n",
       "<polygon fill=\"black\" stroke=\"black\" points=\"995.09,-108.5 1004.43,-103.5 994.01,-101.59 995.09,-108.5\"/>\n",
       "</g>\n",
       "<!-- 140614114647248 -->\n",
       "<g id=\"node4\" class=\"node\">\n",
       "<title>140614114647248</title>\n",
       "<polygon fill=\"none\" stroke=\"black\" points=\"363,-82.5 363,-118.5 606,-118.5 606,-82.5 363,-82.5\"/>\n",
       "<text text-anchor=\"middle\" x=\"375\" y=\"-96.8\" font-family=\"Times,serif\" font-size=\"14.00\">c</text>\n",
       "<polyline fill=\"none\" stroke=\"black\" points=\"387,-82.5 387,-118.5 \"/>\n",
       "<text text-anchor=\"middle\" x=\"442.5\" y=\"-96.8\" font-family=\"Times,serif\" font-size=\"14.00\">data 10.0000</text>\n",
       "<polyline fill=\"none\" stroke=\"black\" points=\"498,-82.5 498,-118.5 \"/>\n",
       "<text text-anchor=\"middle\" x=\"552\" y=\"-96.8\" font-family=\"Times,serif\" font-size=\"14.00\">grad &#45;2.0000</text>\n",
       "</g>\n",
       "<!-- 140614114641232+ -->\n",
       "<g id=\"node8\" class=\"node\">\n",
       "<title>140614114641232+</title>\n",
       "<ellipse fill=\"none\" stroke=\"black\" cx=\"669\" cy=\"-72.5\" rx=\"27\" ry=\"18\"/>\n",
       "<text text-anchor=\"middle\" x=\"669\" y=\"-68.8\" font-family=\"Times,serif\" font-size=\"14.00\">+</text>\n",
       "</g>\n",
       "<!-- 140614114647248&#45;&gt;140614114641232+ -->\n",
       "<g id=\"edge9\" class=\"edge\">\n",
       "<title>140614114647248&#45;&gt;140614114641232+</title>\n",
       "<path fill=\"none\" stroke=\"black\" d=\"M602.89,-82.49C613.53,-80.86 623.65,-79.3 632.61,-77.93\"/>\n",
       "<polygon fill=\"black\" stroke=\"black\" points=\"633.2,-81.38 642.55,-76.4 632.14,-74.46 633.2,-81.38\"/>\n",
       "</g>\n",
       "<!-- 140614114647312 -->\n",
       "<g id=\"node5\" class=\"node\">\n",
       "<title>140614114647312</title>\n",
       "<polygon fill=\"none\" stroke=\"black\" points=\"364.5,-27.5 364.5,-63.5 604.5,-63.5 604.5,-27.5 364.5,-27.5\"/>\n",
       "<text text-anchor=\"middle\" x=\"377\" y=\"-41.8\" font-family=\"Times,serif\" font-size=\"14.00\">e</text>\n",
       "<polyline fill=\"none\" stroke=\"black\" points=\"389.5,-27.5 389.5,-63.5 \"/>\n",
       "<text text-anchor=\"middle\" x=\"443\" y=\"-41.8\" font-family=\"Times,serif\" font-size=\"14.00\">data &#45;6.0000</text>\n",
       "<polyline fill=\"none\" stroke=\"black\" points=\"496.5,-27.5 496.5,-63.5 \"/>\n",
       "<text text-anchor=\"middle\" x=\"550.5\" y=\"-41.8\" font-family=\"Times,serif\" font-size=\"14.00\">grad &#45;2.0000</text>\n",
       "</g>\n",
       "<!-- 140614114647312&#45;&gt;140614114641232+ -->\n",
       "<g id=\"edge7\" class=\"edge\">\n",
       "<title>140614114647312&#45;&gt;140614114641232+</title>\n",
       "<path fill=\"none\" stroke=\"black\" d=\"M604.68,-63.13C614.57,-64.6 623.98,-65.99 632.37,-67.23\"/>\n",
       "<polygon fill=\"black\" stroke=\"black\" points=\"632.02,-70.71 642.42,-68.72 633.04,-63.79 632.02,-70.71\"/>\n",
       "</g>\n",
       "<!-- 140614114647312* -->\n",
       "<g id=\"node6\" class=\"node\">\n",
       "<title>140614114647312*</title>\n",
       "<ellipse fill=\"none\" stroke=\"black\" cx=\"300\" cy=\"-45.5\" rx=\"27\" ry=\"18\"/>\n",
       "<text text-anchor=\"middle\" x=\"300\" y=\"-41.8\" font-family=\"Times,serif\" font-size=\"14.00\">*</text>\n",
       "</g>\n",
       "<!-- 140614114647312*&#45;&gt;140614114647312 -->\n",
       "<g id=\"edge2\" class=\"edge\">\n",
       "<title>140614114647312*&#45;&gt;140614114647312</title>\n",
       "<path fill=\"none\" stroke=\"black\" d=\"M327.15,-45.5C334.98,-45.5 344.16,-45.5 354.06,-45.5\"/>\n",
       "<polygon fill=\"black\" stroke=\"black\" points=\"354.19,-49 364.19,-45.5 354.19,-42 354.19,-49\"/>\n",
       "</g>\n",
       "<!-- 140614114641232 -->\n",
       "<g id=\"node7\" class=\"node\">\n",
       "<title>140614114641232</title>\n",
       "<polygon fill=\"none\" stroke=\"black\" points=\"732,-54.5 732,-90.5 968,-90.5 968,-54.5 732,-54.5\"/>\n",
       "<text text-anchor=\"middle\" x=\"745\" y=\"-68.8\" font-family=\"Times,serif\" font-size=\"14.00\">d</text>\n",
       "<polyline fill=\"none\" stroke=\"black\" points=\"758,-54.5 758,-90.5 \"/>\n",
       "<text text-anchor=\"middle\" x=\"809\" y=\"-68.8\" font-family=\"Times,serif\" font-size=\"14.00\">data 4.0000</text>\n",
       "<polyline fill=\"none\" stroke=\"black\" points=\"860,-54.5 860,-90.5 \"/>\n",
       "<text text-anchor=\"middle\" x=\"914\" y=\"-68.8\" font-family=\"Times,serif\" font-size=\"14.00\">grad &#45;2.0000</text>\n",
       "</g>\n",
       "<!-- 140614114641232&#45;&gt;140614114641424* -->\n",
       "<g id=\"edge6\" class=\"edge\">\n",
       "<title>140614114641232&#45;&gt;140614114641424*</title>\n",
       "<path fill=\"none\" stroke=\"black\" d=\"M968.15,-90.17C977.53,-91.58 986.46,-92.93 994.46,-94.14\"/>\n",
       "<polygon fill=\"black\" stroke=\"black\" points=\"994.01,-97.61 1004.42,-95.64 995.06,-90.69 994.01,-97.61\"/>\n",
       "</g>\n",
       "<!-- 140614114641232+&#45;&gt;140614114641232 -->\n",
       "<g id=\"edge3\" class=\"edge\">\n",
       "<title>140614114641232+&#45;&gt;140614114641232</title>\n",
       "<path fill=\"none\" stroke=\"black\" d=\"M696.03,-72.5C703.58,-72.5 712.38,-72.5 721.87,-72.5\"/>\n",
       "<polygon fill=\"black\" stroke=\"black\" points=\"721.99,-76 731.99,-72.5 721.99,-69 721.99,-76\"/>\n",
       "</g>\n",
       "<!-- 140614114640720 -->\n",
       "<g id=\"node9\" class=\"node\">\n",
       "<title>140614114640720</title>\n",
       "<polygon fill=\"none\" stroke=\"black\" points=\"3,-55.5 3,-91.5 234,-91.5 234,-55.5 3,-55.5\"/>\n",
       "<text text-anchor=\"middle\" x=\"15.5\" y=\"-69.8\" font-family=\"Times,serif\" font-size=\"14.00\">a</text>\n",
       "<polyline fill=\"none\" stroke=\"black\" points=\"28,-55.5 28,-91.5 \"/>\n",
       "<text text-anchor=\"middle\" x=\"79\" y=\"-69.8\" font-family=\"Times,serif\" font-size=\"14.00\">data 2.0000</text>\n",
       "<polyline fill=\"none\" stroke=\"black\" points=\"130,-55.5 130,-91.5 \"/>\n",
       "<text text-anchor=\"middle\" x=\"182\" y=\"-69.8\" font-family=\"Times,serif\" font-size=\"14.00\">grad 0.0000</text>\n",
       "</g>\n",
       "<!-- 140614114640720&#45;&gt;140614114647312* -->\n",
       "<g id=\"edge4\" class=\"edge\">\n",
       "<title>140614114640720&#45;&gt;140614114647312*</title>\n",
       "<path fill=\"none\" stroke=\"black\" d=\"M234.2,-55.61C244.76,-53.96 254.83,-52.39 263.74,-51\"/>\n",
       "<polygon fill=\"black\" stroke=\"black\" points=\"264.3,-54.46 273.64,-49.46 263.22,-47.54 264.3,-54.46\"/>\n",
       "</g>\n",
       "<!-- 140614114640784 -->\n",
       "<g id=\"node10\" class=\"node\">\n",
       "<title>140614114640784</title>\n",
       "<polygon fill=\"none\" stroke=\"black\" points=\"0,-0.5 0,-36.5 237,-36.5 237,-0.5 0,-0.5\"/>\n",
       "<text text-anchor=\"middle\" x=\"13\" y=\"-14.8\" font-family=\"Times,serif\" font-size=\"14.00\">b</text>\n",
       "<polyline fill=\"none\" stroke=\"black\" points=\"26,-0.5 26,-36.5 \"/>\n",
       "<text text-anchor=\"middle\" x=\"79.5\" y=\"-14.8\" font-family=\"Times,serif\" font-size=\"14.00\">data &#45;3.0000</text>\n",
       "<polyline fill=\"none\" stroke=\"black\" points=\"133,-0.5 133,-36.5 \"/>\n",
       "<text text-anchor=\"middle\" x=\"185\" y=\"-14.8\" font-family=\"Times,serif\" font-size=\"14.00\">grad 0.0000</text>\n",
       "</g>\n",
       "<!-- 140614114640784&#45;&gt;140614114647312* -->\n",
       "<g id=\"edge5\" class=\"edge\">\n",
       "<title>140614114640784&#45;&gt;140614114647312*</title>\n",
       "<path fill=\"none\" stroke=\"black\" d=\"M237.23,-36.21C246.6,-37.62 255.52,-38.96 263.52,-40.16\"/>\n",
       "<polygon fill=\"black\" stroke=\"black\" points=\"263.06,-43.63 273.47,-41.66 264.1,-36.71 263.06,-43.63\"/>\n",
       "</g>\n",
       "</g>\n",
       "</svg>\n"
      ],
      "text/plain": [
       "<graphviz.graphs.Digraph at 0x7fe3465a85d0>"
      ]
     },
     "execution_count": 17,
     "metadata": {},
     "output_type": "execute_result"
    }
   ],
   "source": [
    "draw_dot(L)"
   ]
  },
  {
   "cell_type": "markdown",
   "id": "7b5dd6ea",
   "metadata": {},
   "source": [
    "### Lets manually check our work by nudging c"
   ]
  },
  {
   "cell_type": "code",
   "execution_count": 18,
   "id": "53296a70",
   "metadata": {},
   "outputs": [
    {
     "name": "stdout",
     "output_type": "stream",
     "text": [
      "-1.9999999999953388\n"
     ]
    }
   ],
   "source": [
    "def lol():\n",
    "    \n",
    "    h = 0.0001\n",
    "    \n",
    "    a = Value(2.0, label='a')\n",
    "    b = Value(-3.0, label='b')\n",
    "    c = Value(10.0, label='c')\n",
    "    e = a*b; e.label = 'e'\n",
    "    d = e + c; d.label = 'd'\n",
    "    f = Value(-2.0, label='f')\n",
    "    L = d * f; L.label = 'L'\n",
    "    L1 = L.data\n",
    "    \n",
    "    a = Value(2.0 , label='a')\n",
    "    b = Value(-3.0, label='b')\n",
    "    # this is the variable we are nudging by h\n",
    "    c = Value(10.0, label='c')\n",
    "    c.data += h\n",
    "    e = a*b; e.label = 'e'\n",
    "    d = e + c; d.label = 'd'\n",
    "    f = Value(-2.0, label='f')\n",
    "    L = d * f; L.label = 'L'\n",
    "    L2 = L.data\n",
    "    \n",
    "    print((L2-L1)/h)\n",
    "lol()"
   ]
  },
  {
   "cell_type": "markdown",
   "id": "62afa305",
   "metadata": {},
   "source": [
    "As we expected c.grad equals -2.0*"
   ]
  },
  {
   "cell_type": "markdown",
   "id": "450886c4",
   "metadata": {},
   "source": [
    "## Now we will recurse our way backwards again and going to do our second application of the chain rule\n",
    "### $\\frac{dL}{de} = -2.0$ </br>\n",
    "### $\\frac{de}{da} = b$ </br>\n",
    "### $\\frac{dL}{da} = \\frac{dL}{de} * \\frac{de}{da}$"
   ]
  },
  {
   "cell_type": "markdown",
   "id": "47692c25",
   "metadata": {},
   "source": [
    "We are multiplying the derivative of e with respect to L with the local gradients"
   ]
  },
  {
   "cell_type": "code",
   "execution_count": 19,
   "id": "92664084",
   "metadata": {},
   "outputs": [],
   "source": [
    "a.grad = -2.0 * -3.0\n",
    "b.grad = -2.0 * 2.0"
   ]
  },
  {
   "cell_type": "code",
   "execution_count": 20,
   "id": "3db2ced6",
   "metadata": {},
   "outputs": [
    {
     "data": {
      "image/svg+xml": [
       "<?xml version=\"1.0\" encoding=\"UTF-8\" standalone=\"no\"?>\n",
       "<!DOCTYPE svg PUBLIC \"-//W3C//DTD SVG 1.1//EN\"\n",
       " \"http://www.w3.org/Graphics/SVG/1.1/DTD/svg11.dtd\">\n",
       "<!-- Generated by graphviz version 2.43.0 (0)\n",
       " -->\n",
       "<!-- Title: %3 Pages: 1 -->\n",
       "<svg width=\"1343pt\" height=\"154pt\"\n",
       " viewBox=\"0.00 0.00 1343.00 154.00\" xmlns=\"http://www.w3.org/2000/svg\" xmlns:xlink=\"http://www.w3.org/1999/xlink\">\n",
       "<g id=\"graph0\" class=\"graph\" transform=\"scale(1 1) rotate(0) translate(4 150)\">\n",
       "<title>%3</title>\n",
       "<polygon fill=\"white\" stroke=\"transparent\" points=\"-4,4 -4,-150 1339,-150 1339,4 -4,4\"/>\n",
       "<!-- 140614114641424 -->\n",
       "<g id=\"node1\" class=\"node\">\n",
       "<title>140614114641424</title>\n",
       "<polygon fill=\"none\" stroke=\"black\" points=\"1098,-81.5 1098,-117.5 1335,-117.5 1335,-81.5 1098,-81.5\"/>\n",
       "<text text-anchor=\"middle\" x=\"1111\" y=\"-95.8\" font-family=\"Times,serif\" font-size=\"14.00\">L</text>\n",
       "<polyline fill=\"none\" stroke=\"black\" points=\"1124,-81.5 1124,-117.5 \"/>\n",
       "<text text-anchor=\"middle\" x=\"1177.5\" y=\"-95.8\" font-family=\"Times,serif\" font-size=\"14.00\">data &#45;8.0000</text>\n",
       "<polyline fill=\"none\" stroke=\"black\" points=\"1231,-81.5 1231,-117.5 \"/>\n",
       "<text text-anchor=\"middle\" x=\"1283\" y=\"-95.8\" font-family=\"Times,serif\" font-size=\"14.00\">grad 1.0000</text>\n",
       "</g>\n",
       "<!-- 140614114641424* -->\n",
       "<g id=\"node2\" class=\"node\">\n",
       "<title>140614114641424*</title>\n",
       "<ellipse fill=\"none\" stroke=\"black\" cx=\"1035\" cy=\"-99.5\" rx=\"27\" ry=\"18\"/>\n",
       "<text text-anchor=\"middle\" x=\"1035\" y=\"-95.8\" font-family=\"Times,serif\" font-size=\"14.00\">*</text>\n",
       "</g>\n",
       "<!-- 140614114641424*&#45;&gt;140614114641424 -->\n",
       "<g id=\"edge1\" class=\"edge\">\n",
       "<title>140614114641424*&#45;&gt;140614114641424</title>\n",
       "<path fill=\"none\" stroke=\"black\" d=\"M1062.1,-99.5C1069.61,-99.5 1078.33,-99.5 1087.75,-99.5\"/>\n",
       "<polygon fill=\"black\" stroke=\"black\" points=\"1087.78,-103 1097.78,-99.5 1087.78,-96 1087.78,-103\"/>\n",
       "</g>\n",
       "<!-- 140614114641488 -->\n",
       "<g id=\"node3\" class=\"node\">\n",
       "<title>140614114641488</title>\n",
       "<polygon fill=\"none\" stroke=\"black\" points=\"737.5,-109.5 737.5,-145.5 970.5,-145.5 970.5,-109.5 737.5,-109.5\"/>\n",
       "<text text-anchor=\"middle\" x=\"748.5\" y=\"-123.8\" font-family=\"Times,serif\" font-size=\"14.00\">f</text>\n",
       "<polyline fill=\"none\" stroke=\"black\" points=\"759.5,-109.5 759.5,-145.5 \"/>\n",
       "<text text-anchor=\"middle\" x=\"813\" y=\"-123.8\" font-family=\"Times,serif\" font-size=\"14.00\">data &#45;2.0000</text>\n",
       "<polyline fill=\"none\" stroke=\"black\" points=\"866.5,-109.5 866.5,-145.5 \"/>\n",
       "<text text-anchor=\"middle\" x=\"918.5\" y=\"-123.8\" font-family=\"Times,serif\" font-size=\"14.00\">grad 4.0000</text>\n",
       "</g>\n",
       "<!-- 140614114641488&#45;&gt;140614114641424* -->\n",
       "<g id=\"edge8\" class=\"edge\">\n",
       "<title>140614114641488&#45;&gt;140614114641424*</title>\n",
       "<path fill=\"none\" stroke=\"black\" d=\"M970.13,-109.49C980.27,-107.91 989.92,-106.4 998.51,-105.05\"/>\n",
       "<polygon fill=\"black\" stroke=\"black\" points=\"999.09,-108.5 1008.43,-103.5 998.01,-101.59 999.09,-108.5\"/>\n",
       "</g>\n",
       "<!-- 140614114647248 -->\n",
       "<g id=\"node4\" class=\"node\">\n",
       "<title>140614114647248</title>\n",
       "<polygon fill=\"none\" stroke=\"black\" points=\"367,-82.5 367,-118.5 610,-118.5 610,-82.5 367,-82.5\"/>\n",
       "<text text-anchor=\"middle\" x=\"379\" y=\"-96.8\" font-family=\"Times,serif\" font-size=\"14.00\">c</text>\n",
       "<polyline fill=\"none\" stroke=\"black\" points=\"391,-82.5 391,-118.5 \"/>\n",
       "<text text-anchor=\"middle\" x=\"446.5\" y=\"-96.8\" font-family=\"Times,serif\" font-size=\"14.00\">data 10.0000</text>\n",
       "<polyline fill=\"none\" stroke=\"black\" points=\"502,-82.5 502,-118.5 \"/>\n",
       "<text text-anchor=\"middle\" x=\"556\" y=\"-96.8\" font-family=\"Times,serif\" font-size=\"14.00\">grad &#45;2.0000</text>\n",
       "</g>\n",
       "<!-- 140614114641232+ -->\n",
       "<g id=\"node8\" class=\"node\">\n",
       "<title>140614114641232+</title>\n",
       "<ellipse fill=\"none\" stroke=\"black\" cx=\"673\" cy=\"-72.5\" rx=\"27\" ry=\"18\"/>\n",
       "<text text-anchor=\"middle\" x=\"673\" y=\"-68.8\" font-family=\"Times,serif\" font-size=\"14.00\">+</text>\n",
       "</g>\n",
       "<!-- 140614114647248&#45;&gt;140614114641232+ -->\n",
       "<g id=\"edge9\" class=\"edge\">\n",
       "<title>140614114647248&#45;&gt;140614114641232+</title>\n",
       "<path fill=\"none\" stroke=\"black\" d=\"M606.89,-82.49C617.53,-80.86 627.65,-79.3 636.61,-77.93\"/>\n",
       "<polygon fill=\"black\" stroke=\"black\" points=\"637.2,-81.38 646.55,-76.4 636.14,-74.46 637.2,-81.38\"/>\n",
       "</g>\n",
       "<!-- 140614114647312 -->\n",
       "<g id=\"node5\" class=\"node\">\n",
       "<title>140614114647312</title>\n",
       "<polygon fill=\"none\" stroke=\"black\" points=\"368.5,-27.5 368.5,-63.5 608.5,-63.5 608.5,-27.5 368.5,-27.5\"/>\n",
       "<text text-anchor=\"middle\" x=\"381\" y=\"-41.8\" font-family=\"Times,serif\" font-size=\"14.00\">e</text>\n",
       "<polyline fill=\"none\" stroke=\"black\" points=\"393.5,-27.5 393.5,-63.5 \"/>\n",
       "<text text-anchor=\"middle\" x=\"447\" y=\"-41.8\" font-family=\"Times,serif\" font-size=\"14.00\">data &#45;6.0000</text>\n",
       "<polyline fill=\"none\" stroke=\"black\" points=\"500.5,-27.5 500.5,-63.5 \"/>\n",
       "<text text-anchor=\"middle\" x=\"554.5\" y=\"-41.8\" font-family=\"Times,serif\" font-size=\"14.00\">grad &#45;2.0000</text>\n",
       "</g>\n",
       "<!-- 140614114647312&#45;&gt;140614114641232+ -->\n",
       "<g id=\"edge7\" class=\"edge\">\n",
       "<title>140614114647312&#45;&gt;140614114641232+</title>\n",
       "<path fill=\"none\" stroke=\"black\" d=\"M608.68,-63.13C618.57,-64.6 627.98,-65.99 636.37,-67.23\"/>\n",
       "<polygon fill=\"black\" stroke=\"black\" points=\"636.02,-70.71 646.42,-68.72 637.04,-63.79 636.02,-70.71\"/>\n",
       "</g>\n",
       "<!-- 140614114647312* -->\n",
       "<g id=\"node6\" class=\"node\">\n",
       "<title>140614114647312*</title>\n",
       "<ellipse fill=\"none\" stroke=\"black\" cx=\"304\" cy=\"-45.5\" rx=\"27\" ry=\"18\"/>\n",
       "<text text-anchor=\"middle\" x=\"304\" y=\"-41.8\" font-family=\"Times,serif\" font-size=\"14.00\">*</text>\n",
       "</g>\n",
       "<!-- 140614114647312*&#45;&gt;140614114647312 -->\n",
       "<g id=\"edge2\" class=\"edge\">\n",
       "<title>140614114647312*&#45;&gt;140614114647312</title>\n",
       "<path fill=\"none\" stroke=\"black\" d=\"M331.15,-45.5C338.98,-45.5 348.16,-45.5 358.06,-45.5\"/>\n",
       "<polygon fill=\"black\" stroke=\"black\" points=\"358.19,-49 368.19,-45.5 358.19,-42 358.19,-49\"/>\n",
       "</g>\n",
       "<!-- 140614114641232 -->\n",
       "<g id=\"node7\" class=\"node\">\n",
       "<title>140614114641232</title>\n",
       "<polygon fill=\"none\" stroke=\"black\" points=\"736,-54.5 736,-90.5 972,-90.5 972,-54.5 736,-54.5\"/>\n",
       "<text text-anchor=\"middle\" x=\"749\" y=\"-68.8\" font-family=\"Times,serif\" font-size=\"14.00\">d</text>\n",
       "<polyline fill=\"none\" stroke=\"black\" points=\"762,-54.5 762,-90.5 \"/>\n",
       "<text text-anchor=\"middle\" x=\"813\" y=\"-68.8\" font-family=\"Times,serif\" font-size=\"14.00\">data 4.0000</text>\n",
       "<polyline fill=\"none\" stroke=\"black\" points=\"864,-54.5 864,-90.5 \"/>\n",
       "<text text-anchor=\"middle\" x=\"918\" y=\"-68.8\" font-family=\"Times,serif\" font-size=\"14.00\">grad &#45;2.0000</text>\n",
       "</g>\n",
       "<!-- 140614114641232&#45;&gt;140614114641424* -->\n",
       "<g id=\"edge6\" class=\"edge\">\n",
       "<title>140614114641232&#45;&gt;140614114641424*</title>\n",
       "<path fill=\"none\" stroke=\"black\" d=\"M972.15,-90.17C981.53,-91.58 990.46,-92.93 998.46,-94.14\"/>\n",
       "<polygon fill=\"black\" stroke=\"black\" points=\"998.01,-97.61 1008.42,-95.64 999.06,-90.69 998.01,-97.61\"/>\n",
       "</g>\n",
       "<!-- 140614114641232+&#45;&gt;140614114641232 -->\n",
       "<g id=\"edge3\" class=\"edge\">\n",
       "<title>140614114641232+&#45;&gt;140614114641232</title>\n",
       "<path fill=\"none\" stroke=\"black\" d=\"M700.03,-72.5C707.58,-72.5 716.38,-72.5 725.87,-72.5\"/>\n",
       "<polygon fill=\"black\" stroke=\"black\" points=\"725.99,-76 735.99,-72.5 725.99,-69 725.99,-76\"/>\n",
       "</g>\n",
       "<!-- 140614114640720 -->\n",
       "<g id=\"node9\" class=\"node\">\n",
       "<title>140614114640720</title>\n",
       "<polygon fill=\"none\" stroke=\"black\" points=\"5,-55.5 5,-91.5 236,-91.5 236,-55.5 5,-55.5\"/>\n",
       "<text text-anchor=\"middle\" x=\"17.5\" y=\"-69.8\" font-family=\"Times,serif\" font-size=\"14.00\">a</text>\n",
       "<polyline fill=\"none\" stroke=\"black\" points=\"30,-55.5 30,-91.5 \"/>\n",
       "<text text-anchor=\"middle\" x=\"81\" y=\"-69.8\" font-family=\"Times,serif\" font-size=\"14.00\">data 2.0000</text>\n",
       "<polyline fill=\"none\" stroke=\"black\" points=\"132,-55.5 132,-91.5 \"/>\n",
       "<text text-anchor=\"middle\" x=\"184\" y=\"-69.8\" font-family=\"Times,serif\" font-size=\"14.00\">grad 6.0000</text>\n",
       "</g>\n",
       "<!-- 140614114640720&#45;&gt;140614114647312* -->\n",
       "<g id=\"edge4\" class=\"edge\">\n",
       "<title>140614114640720&#45;&gt;140614114647312*</title>\n",
       "<path fill=\"none\" stroke=\"black\" d=\"M236.19,-55.81C247.37,-54.08 258.02,-52.44 267.41,-50.99\"/>\n",
       "<polygon fill=\"black\" stroke=\"black\" points=\"268.08,-54.43 277.43,-49.44 267.01,-47.51 268.08,-54.43\"/>\n",
       "</g>\n",
       "<!-- 140614114640784 -->\n",
       "<g id=\"node10\" class=\"node\">\n",
       "<title>140614114640784</title>\n",
       "<polygon fill=\"none\" stroke=\"black\" points=\"0,-0.5 0,-36.5 241,-36.5 241,-0.5 0,-0.5\"/>\n",
       "<text text-anchor=\"middle\" x=\"13\" y=\"-14.8\" font-family=\"Times,serif\" font-size=\"14.00\">b</text>\n",
       "<polyline fill=\"none\" stroke=\"black\" points=\"26,-0.5 26,-36.5 \"/>\n",
       "<text text-anchor=\"middle\" x=\"79.5\" y=\"-14.8\" font-family=\"Times,serif\" font-size=\"14.00\">data &#45;3.0000</text>\n",
       "<polyline fill=\"none\" stroke=\"black\" points=\"133,-0.5 133,-36.5 \"/>\n",
       "<text text-anchor=\"middle\" x=\"187\" y=\"-14.8\" font-family=\"Times,serif\" font-size=\"14.00\">grad &#45;4.0000</text>\n",
       "</g>\n",
       "<!-- 140614114640784&#45;&gt;140614114647312* -->\n",
       "<g id=\"edge5\" class=\"edge\">\n",
       "<title>140614114640784&#45;&gt;140614114647312*</title>\n",
       "<path fill=\"none\" stroke=\"black\" d=\"M241.05,-36.28C250.46,-37.68 259.41,-39.02 267.44,-40.21\"/>\n",
       "<polygon fill=\"black\" stroke=\"black\" points=\"267.01,-43.68 277.41,-41.69 268.04,-36.76 267.01,-43.68\"/>\n",
       "</g>\n",
       "</g>\n",
       "</svg>\n"
      ],
      "text/plain": [
       "<graphviz.graphs.Digraph at 0x7fe3c5238bd0>"
      ]
     },
     "execution_count": 20,
     "metadata": {},
     "output_type": "execute_result"
    }
   ],
   "source": [
    "draw_dot(L)"
   ]
  },
  {
   "cell_type": "markdown",
   "id": "6c61dcda",
   "metadata": {},
   "source": [
    "Lets verify"
   ]
  },
  {
   "cell_type": "code",
   "execution_count": 21,
   "id": "78b51622",
   "metadata": {},
   "outputs": [
    {
     "name": "stdout",
     "output_type": "stream",
     "text": [
      "6.000000000021544\n"
     ]
    }
   ],
   "source": [
    "def lol():\n",
    "    \n",
    "    h = 0.0001\n",
    "    \n",
    "    a = Value(2.0, label='a')\n",
    "    b = Value(-3.0, label='b')\n",
    "    c = Value(10.0, label='c')\n",
    "    e = a*b; e.label = 'e'\n",
    "    d = e + c; d.label = 'd'\n",
    "    f = Value(-2.0, label='f')\n",
    "    L = d * f; L.label = 'L'\n",
    "    L1 = L.data\n",
    "    \n",
    "    # this is the variable we are nudging by h\n",
    "    a = Value(2.0 , label='a')\n",
    "    a.data += h\n",
    "    b = Value(-3.0, label='b')\n",
    "    c = Value(10.0, label='c')\n",
    "    e = a*b; e.label = 'e'\n",
    "    d = e + c; d.label = 'd'\n",
    "    f = Value(-2.0, label='f')\n",
    "    L = d * f; L.label = 'L'\n",
    "    L2 = L.data\n",
    "    \n",
    "    print((L2-L1)/h)\n",
    "lol()"
   ]
  },
  {
   "cell_type": "markdown",
   "id": "4d7ba1a1",
   "metadata": {},
   "source": [
    "Checks out"
   ]
  },
  {
   "cell_type": "markdown",
   "id": "f0a553a2",
   "metadata": {},
   "source": [
    "## We know know what back propagation is;  a recursive application of the chain rule backwards through the computational graph"
   ]
  },
  {
   "cell_type": "markdown",
   "id": "79e6fc8d",
   "metadata": {},
   "source": [
    "# Neuron Example"
   ]
  },
  {
   "cell_type": "code",
   "execution_count": null,
   "id": "9fedf531",
   "metadata": {},
   "outputs": [],
   "source": []
  }
 ],
 "metadata": {
  "kernelspec": {
   "display_name": "fsdl",
   "language": "python",
   "name": "fsdl"
  },
  "language_info": {
   "codemirror_mode": {
    "name": "ipython",
    "version": 3
   },
   "file_extension": ".py",
   "mimetype": "text/x-python",
   "name": "python",
   "nbconvert_exporter": "python",
   "pygments_lexer": "ipython3",
   "version": "3.7.12"
  },
  "varInspector": {
   "cols": {
    "lenName": 16,
    "lenType": 16,
    "lenVar": 40
   },
   "kernels_config": {
    "python": {
     "delete_cmd_postfix": "",
     "delete_cmd_prefix": "del ",
     "library": "var_list.py",
     "varRefreshCmd": "print(var_dic_list())"
    },
    "r": {
     "delete_cmd_postfix": ") ",
     "delete_cmd_prefix": "rm(",
     "library": "var_list.r",
     "varRefreshCmd": "cat(var_dic_list()) "
    }
   },
   "types_to_exclude": [
    "module",
    "function",
    "builtin_function_or_method",
    "instance",
    "_Feature"
   ],
   "window_display": false
  }
 },
 "nbformat": 4,
 "nbformat_minor": 5
}
