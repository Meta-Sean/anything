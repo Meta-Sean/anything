{
 "cells": [
  {
   "cell_type": "markdown",
   "id": "a376aa48",
   "metadata": {},
   "source": [
    "# Micrograd 🔧\n",
    "\n",
    "> Spelled-out intro to neural networks and backpropagation\n",
    " \n",
    "- toc: false\n",
    "- branch: master\n",
    "- badges: true\n",
    "- comments: true\n",
    "- categories: [fastpages, jupyter, kaggle]"
   ]
  },
  {
   "cell_type": "markdown",
   "id": "c553f1dd",
   "metadata": {},
   "source": [
    "### A blog implementation of Andrej Karpathy's [micrograd video](https://www.youtube.com/watch?v=VMj-3S1tku0) \n",
    "### Work in progress will continually add to this blog"
   ]
  },
  {
   "cell_type": "markdown",
   "id": "8b9bceaa",
   "metadata": {},
   "source": [
    "**Content:**\n",
    "1. [Derivative of a function](#1)\n",
    "1. [Core Value Object](#2)\n",
    "1. [Manual Backpropagation](#3)\n",
    "1. [Backward function](#4)\n",
    "1. [More operations](#5)\n",
    "1. [Pytorch](#6)"
   ]
  },
  {
   "cell_type": "markdown",
   "id": "0292ca0a",
   "metadata": {},
   "source": [
    "<a id=1></a>\n",
    "# Lets get an intuitive understanding of what a derivative is"
   ]
  },
  {
   "cell_type": "code",
   "execution_count": 1,
   "id": "2fb8fca8",
   "metadata": {},
   "outputs": [],
   "source": [
    "#basic imports\n",
    "import math\n",
    "import numpy as np\n",
    "import matplotlib.pyplot as plt\n",
    "%matplotlib inline"
   ]
  },
  {
   "cell_type": "markdown",
   "id": "2260a5f1",
   "metadata": {},
   "source": [
    "Lets use a simple quadratic function as an example <br />\n",
    "<br/>\n",
    "## $f(x) = 3x^2 - 4x + 5$\n"
   ]
  },
  {
   "cell_type": "code",
   "execution_count": 2,
   "id": "1fcda76a",
   "metadata": {},
   "outputs": [],
   "source": [
    "def f(x):\n",
    "    return 3*x**2 - 4*x + 5"
   ]
  },
  {
   "cell_type": "code",
   "execution_count": 3,
   "id": "d4dfc1f2",
   "metadata": {},
   "outputs": [
    {
     "data": {
      "text/plain": [
       "20.0"
      ]
     },
     "execution_count": 3,
     "metadata": {},
     "output_type": "execute_result"
    }
   ],
   "source": [
    "f(3.0)"
   ]
  },
  {
   "cell_type": "markdown",
   "id": "a2742766",
   "metadata": {},
   "source": [
    "Take a look at the shape of the function, we can expect a parabola since we know its a quadratic function "
   ]
  },
  {
   "cell_type": "code",
   "execution_count": 4,
   "id": "50b9c156",
   "metadata": {},
   "outputs": [
    {
     "data": {
      "text/plain": [
       "[<matplotlib.lines.Line2D at 0x7f2a401d9150>]"
      ]
     },
     "execution_count": 4,
     "metadata": {},
     "output_type": "execute_result"
    },
    {
     "data": {
      "image/png": "[encoded data removed]",
      "text/plain": [
       "<Figure size 432x288 with 1 Axes>"
      ]
     },
     "metadata": {
      "needs_background": "light"
     },
     "output_type": "display_data"
    }
   ],
   "source": [
    "# creating a range of x values from -5 to 5 incrementing by 0.25 to pass into our function to generate our y values\n",
    "xs = np.arange(-5, 5, 0.25)\n",
    "ys = f(xs)\n",
    "plt.plot(xs, ys)"
   ]
  },
  {
   "cell_type": "markdown",
   "id": "3cf5b6d4",
   "metadata": {},
   "source": [
    "We know want to think through what is the derivative of this function at different points x, let refresh with the definition of a derivative \n",
    "## $f'(x) = lim_{h \\to 0} \\frac{f(x+h)-f(x)}{h}$ \n",
    "\n",
    "\n",
    "You are basically trying to see the level of sensitivty the function responds with by bumping any x value at any point slightly by this small number h </br>\n",
    "Intuitively how would you expect this function to respond if we nudged x = 3.0 by this small postitive number h? The amount the x value responds tells you the strength of the slope"
   ]
  },
  {
   "cell_type": "code",
   "execution_count": 5,
   "id": "3d176850",
   "metadata": {},
   "outputs": [
    {
     "name": "stdout",
     "output_type": "stream",
     "text": [
      "slope of function at x = 3.0, slope = 14.000300000063248\n"
     ]
    }
   ],
   "source": [
    "h = 0.0001\n",
    "x = 3.0\n",
    "print(f'slope of function at x = {x}, slope = {(f(x + h) - f(x)) / h}')"
   ]
  },
  {
   "cell_type": "markdown",
   "id": "21316802",
   "metadata": {},
   "source": [
    "Lets do a hacky implementation with more variables </br>\n",
    "Look at the function a*b + c in relation to the variables we assigned, imagine if you nudged each variables by a tiny amount would that result in our output being increased or decreased? </br>\n",
    "If we were to slightly nudge each of our input varibles by the tiny amount h(amount approaching 0) we can approximate the instataneous rate of change by looking at the difference before and after over the amount we nudged by, this will give us the slope.\n"
   ]
  },
  {
   "cell_type": "code",
   "execution_count": 6,
   "id": "5e9d3b69",
   "metadata": {},
   "outputs": [
    {
     "name": "stdout",
     "output_type": "stream",
     "text": [
      "d1 4.0\n",
      "d2 3.999699999999999\n",
      "slope -3.000000000010772\n"
     ]
    }
   ],
   "source": [
    "# lets get more complex\n",
    "h = 0.0001\n",
    "#inputs\n",
    "a = 2.0\n",
    "b = -3.0\n",
    "c = 10.0\n",
    "\n",
    "#We wanna find the derivative of d with respect to a,b,c\n",
    "d1 = a*b + c\n",
    "a +=  h\n",
    "d2 = a*b + c\n",
    "print('d1', d1)\n",
    "print('d2', d2)\n",
    "print('slope', (d2 - d1)/h)"
   ]
  },
  {
   "cell_type": "markdown",
   "id": "6bb0a9ad",
   "metadata": {},
   "source": [
    "Lets do it with b now\n"
   ]
  },
  {
   "cell_type": "code",
   "execution_count": 7,
   "id": "4e836fc8",
   "metadata": {},
   "outputs": [
    {
     "name": "stdout",
     "output_type": "stream",
     "text": [
      "d1 3.999699999999999\n",
      "d2 3.99990001\n",
      "slope 2.0001000000124947\n"
     ]
    }
   ],
   "source": [
    "d1 = a*b + c\n",
    "b +=  h\n",
    "d2 = a*b + c\n",
    "print('d1', d1)\n",
    "print('d2', d2)\n",
    "print('slope', (d2 - d1)/h)"
   ]
  },
  {
   "cell_type": "markdown",
   "id": "f4cbf996",
   "metadata": {},
   "source": [
    "And c..."
   ]
  },
  {
   "cell_type": "code",
   "execution_count": 8,
   "id": "b1a93da8",
   "metadata": {},
   "outputs": [
    {
     "name": "stdout",
     "output_type": "stream",
     "text": [
      "d1 3.99990001\n",
      "d2 4.00000001\n",
      "slope 0.9999999999976694\n"
     ]
    }
   ],
   "source": [
    "d1 = a*b + c\n",
    "c +=  h\n",
    "d2 = a*b + c\n",
    "print('d1', d1)\n",
    "print('d2', d2)\n",
    "print('slope', (d2 - d1)/h)"
   ]
  },
  {
   "cell_type": "markdown",
   "id": "26c02754",
   "metadata": {},
   "source": [
    "Hopefully this has helped build an inuitive sense of what this derivative is telling you about the function, but now we want to move to neural networks, which will be massive mathmatical expressions, so we need some structures to maintain these expressions, so we will build out a value object that can keep track of state and allow us to do expressions  "
   ]
  },
  {
   "cell_type": "markdown",
   "id": "39496e0f",
   "metadata": {},
   "source": [
    "<a id=2></a>\n",
    "# Core Value Object"
   ]
  },
  {
   "cell_type": "code",
   "execution_count": 9,
   "id": "5454df0b",
   "metadata": {},
   "outputs": [
    {
     "data": {
      "text/plain": [
       "Value(data=-6.0)"
      ]
     },
     "execution_count": 9,
     "metadata": {},
     "output_type": "execute_result"
    }
   ],
   "source": [
    "class Value:\n",
    "    \n",
    "    def __init__(self, data):\n",
    "        self.data = data\n",
    "        \n",
    "    def __repr__(self):\n",
    "        return f\"Value(data={self.data})\"\n",
    "    \n",
    "    def __add__(self, other):\n",
    "        out = Value(self.data + other.data)\n",
    "        return out\n",
    "    \n",
    "    def __mul__(self, other):\n",
    "        out = Value(self.data * other.data)\n",
    "        return out\n",
    "    \n",
    "a = Value(2.0)\n",
    "b = Value(-3.0)\n",
    "a + b\n",
    "\n",
    "a * b"
   ]
  },
  {
   "cell_type": "markdown",
   "id": "73a743d6",
   "metadata": {},
   "source": [
    "We use double underscore or dunder methods so python knows what to interally when we use operators such as print, +, -, * </br>\n",
    "So when we call ```a + b``` above what is happening interally is ```a.__add__(b)``` with self as a and b as other. Similarly when we do ```a * b```, python is calling ```a.__mul__(b)``` "
   ]
  },
  {
   "cell_type": "markdown",
   "id": "275d7e00",
   "metadata": {},
   "source": [
    "Cool so now we can do basic arthmetic now we need to add pointers to what see values produce other values and by what operations"
   ]
  },
  {
   "cell_type": "code",
   "execution_count": 13,
   "id": "ab40c8ec",
   "metadata": {},
   "outputs": [
    {
     "data": {
      "text/plain": [
       "Value(data=-8.0)"
      ]
     },
     "execution_count": 13,
     "metadata": {},
     "output_type": "execute_result"
    }
   ],
   "source": [
    "class Value:\n",
    "    \n",
    "    def __init__(self, data, _children=(), _op='', label=''):\n",
    "        self.data = data\n",
    "        self._prev = set(_children)\n",
    "        self._op = _op\n",
    "        self.label = label\n",
    "        self.grad = 0.0\n",
    "        \n",
    "    def __repr__(self):\n",
    "        return f\"Value(data={self.data})\"\n",
    "    \n",
    "    def __add__(self, other):\n",
    "        out = Value(self.data + other.data, (self, other), '+')\n",
    "        return out \n",
    "    \n",
    "    def __mul__(self, other):\n",
    "        out = Value(self.data * other.data, (self, other), '*')\n",
    "        return out\n",
    "    \n",
    "a = Value(2.0, label='a')\n",
    "b = Value(-3.0, label='b')\n",
    "c = Value(10.0, label='c')\n",
    "e = a*b; e.label = 'e'\n",
    "d = e + c; d.label = 'd'\n",
    "f = Value(-2.0, label='f')\n",
    "L = d * f; L.label = 'L'\n",
    "L"
   ]
  },
  {
   "cell_type": "markdown",
   "id": "496925b7",
   "metadata": {},
   "source": [
    "Now that we have the a way to store the parents, labels and operations we can visualize them with an expression graph, code below allows us to do that using a library called graphviz"
   ]
  },
  {
   "cell_type": "code",
   "execution_count": 16,
   "id": "e136a3f1",
   "metadata": {},
   "outputs": [],
   "source": [
    "from graphviz import Digraph\n",
    "\n",
    "def trace(root):\n",
    "  # builds a set of all nodes and edges in a graph\n",
    "  nodes, edges = set(), set()\n",
    "  def build(v):\n",
    "    if v not in nodes:\n",
    "      nodes.add(v)\n",
    "      for child in v._prev:\n",
    "        edges.add((child, v))\n",
    "        build(child)\n",
    "  build(root)\n",
    "  return nodes, edges\n",
    "\n",
    "def draw_dot(root):\n",
    "  dot = Digraph(format='svg', graph_attr={'rankdir': 'LR'}) # LR = left to right\n",
    "  \n",
    "  nodes, edges = trace(root)\n",
    "  for n in nodes:\n",
    "    uid = str(id(n))\n",
    "    # for any value in the graph, create a rectangular ('record') node for it\n",
    "    dot.node(name = uid, label = \"{ %s | data %.4f | grad %.4f}\" % (n.label, n.data, n.grad), shape='record')\n",
    "    if n._op:\n",
    "      # if this value is a result of some operation, create an op node for it\n",
    "      dot.node(name = uid + n._op, label = n._op)\n",
    "      # and connect this node to it\n",
    "      dot.edge(uid + n._op, uid)\n",
    "\n",
    "  for n1, n2 in edges:\n",
    "    # connect n1 to the op node of n2\n",
    "    dot.edge(str(id(n1)), str(id(n2)) + n2._op)\n",
    "\n",
    "  return dot"
   ]
  },
  {
   "cell_type": "code",
   "execution_count": 24,
   "id": "886deeea",
   "metadata": {
    "scrolled": true
   },
   "outputs": [
    {
     "data": {
      "image/svg+xml": [
       "<?xml version=\"1.0\" encoding=\"UTF-8\" standalone=\"no\"?>\n",
       "<!DOCTYPE svg PUBLIC \"-//W3C//DTD SVG 1.1//EN\"\n",
       " \"http://www.w3.org/Graphics/SVG/1.1/DTD/svg11.dtd\">\n",
       "<!-- Generated by graphviz version 2.43.0 (0)\n",
       " -->\n",
       "<!-- Title: %3 Pages: 1 -->\n",
       "<svg width=\"1335pt\" height=\"154pt\"\n",
       " viewBox=\"0.00 0.00 1335.00 154.00\" xmlns=\"http://www.w3.org/2000/svg\" xmlns:xlink=\"http://www.w3.org/1999/xlink\">\n",
       "<g id=\"graph0\" class=\"graph\" transform=\"scale(1 1) rotate(0) translate(4 150)\">\n",
       "<title>%3</title>\n",
       "<polygon fill=\"white\" stroke=\"transparent\" points=\"-4,4 -4,-150 1331,-150 1331,4 -4,4\"/>\n",
       "<!-- 139819301708816 -->\n",
       "<g id=\"node1\" class=\"node\">\n",
       "<title>139819301708816</title>\n",
       "<polygon fill=\"none\" stroke=\"black\" points=\"728,-54.5 728,-90.5 964,-90.5 964,-54.5 728,-54.5\"/>\n",
       "<text text-anchor=\"middle\" x=\"741\" y=\"-68.8\" font-family=\"Times,serif\" font-size=\"14.00\">d</text>\n",
       "<polyline fill=\"none\" stroke=\"black\" points=\"754,-54.5 754,-90.5 \"/>\n",
       "<text text-anchor=\"middle\" x=\"805\" y=\"-68.8\" font-family=\"Times,serif\" font-size=\"14.00\">data 4.0000</text>\n",
       "<polyline fill=\"none\" stroke=\"black\" points=\"856,-54.5 856,-90.5 \"/>\n",
       "<text text-anchor=\"middle\" x=\"910\" y=\"-68.8\" font-family=\"Times,serif\" font-size=\"14.00\">grad &#45;2.0000</text>\n",
       "</g>\n",
       "<!-- 139819301711440* -->\n",
       "<g id=\"node5\" class=\"node\">\n",
       "<title>139819301711440*</title>\n",
       "<ellipse fill=\"none\" stroke=\"black\" cx=\"1027\" cy=\"-99.5\" rx=\"27\" ry=\"18\"/>\n",
       "<text text-anchor=\"middle\" x=\"1027\" y=\"-95.8\" font-family=\"Times,serif\" font-size=\"14.00\">*</text>\n",
       "</g>\n",
       "<!-- 139819301708816&#45;&gt;139819301711440* -->\n",
       "<g id=\"edge6\" class=\"edge\">\n",
       "<title>139819301708816&#45;&gt;139819301711440*</title>\n",
       "<path fill=\"none\" stroke=\"black\" d=\"M964.15,-90.17C973.53,-91.58 982.46,-92.93 990.46,-94.14\"/>\n",
       "<polygon fill=\"black\" stroke=\"black\" points=\"990.01,-97.61 1000.42,-95.64 991.06,-90.69 990.01,-97.61\"/>\n",
       "</g>\n",
       "<!-- 139819301708816+ -->\n",
       "<g id=\"node2\" class=\"node\">\n",
       "<title>139819301708816+</title>\n",
       "<ellipse fill=\"none\" stroke=\"black\" cx=\"665\" cy=\"-72.5\" rx=\"27\" ry=\"18\"/>\n",
       "<text text-anchor=\"middle\" x=\"665\" y=\"-68.8\" font-family=\"Times,serif\" font-size=\"14.00\">+</text>\n",
       "</g>\n",
       "<!-- 139819301708816+&#45;&gt;139819301708816 -->\n",
       "<g id=\"edge1\" class=\"edge\">\n",
       "<title>139819301708816+&#45;&gt;139819301708816</title>\n",
       "<path fill=\"none\" stroke=\"black\" d=\"M692.03,-72.5C699.58,-72.5 708.38,-72.5 717.87,-72.5\"/>\n",
       "<polygon fill=\"black\" stroke=\"black\" points=\"717.99,-76 727.99,-72.5 717.99,-69 717.99,-76\"/>\n",
       "</g>\n",
       "<!-- 139819301710352 -->\n",
       "<g id=\"node3\" class=\"node\">\n",
       "<title>139819301710352</title>\n",
       "<polygon fill=\"none\" stroke=\"black\" points=\"363,-82.5 363,-118.5 602,-118.5 602,-82.5 363,-82.5\"/>\n",
       "<text text-anchor=\"middle\" x=\"375\" y=\"-96.8\" font-family=\"Times,serif\" font-size=\"14.00\">c</text>\n",
       "<polyline fill=\"none\" stroke=\"black\" points=\"387,-82.5 387,-118.5 \"/>\n",
       "<text text-anchor=\"middle\" x=\"442.5\" y=\"-96.8\" font-family=\"Times,serif\" font-size=\"14.00\">data 10.0000</text>\n",
       "<polyline fill=\"none\" stroke=\"black\" points=\"498,-82.5 498,-118.5 \"/>\n",
       "<text text-anchor=\"middle\" x=\"550\" y=\"-96.8\" font-family=\"Times,serif\" font-size=\"14.00\">grad 0.0000</text>\n",
       "</g>\n",
       "<!-- 139819301710352&#45;&gt;139819301708816+ -->\n",
       "<g id=\"edge9\" class=\"edge\">\n",
       "<title>139819301710352&#45;&gt;139819301708816+</title>\n",
       "<path fill=\"none\" stroke=\"black\" d=\"M599.6,-82.49C609.91,-80.89 619.74,-79.37 628.46,-78.01\"/>\n",
       "<polygon fill=\"black\" stroke=\"black\" points=\"629.18,-81.44 638.52,-76.45 628.1,-74.53 629.18,-81.44\"/>\n",
       "</g>\n",
       "<!-- 139819301711440 -->\n",
       "<g id=\"node4\" class=\"node\">\n",
       "<title>139819301711440</title>\n",
       "<polygon fill=\"none\" stroke=\"black\" points=\"1090,-81.5 1090,-117.5 1327,-117.5 1327,-81.5 1090,-81.5\"/>\n",
       "<text text-anchor=\"middle\" x=\"1103\" y=\"-95.8\" font-family=\"Times,serif\" font-size=\"14.00\">L</text>\n",
       "<polyline fill=\"none\" stroke=\"black\" points=\"1116,-81.5 1116,-117.5 \"/>\n",
       "<text text-anchor=\"middle\" x=\"1169.5\" y=\"-95.8\" font-family=\"Times,serif\" font-size=\"14.00\">data &#45;8.0000</text>\n",
       "<polyline fill=\"none\" stroke=\"black\" points=\"1223,-81.5 1223,-117.5 \"/>\n",
       "<text text-anchor=\"middle\" x=\"1275\" y=\"-95.8\" font-family=\"Times,serif\" font-size=\"14.00\">grad 1.0000</text>\n",
       "</g>\n",
       "<!-- 139819301711440*&#45;&gt;139819301711440 -->\n",
       "<g id=\"edge2\" class=\"edge\">\n",
       "<title>139819301711440*&#45;&gt;139819301711440</title>\n",
       "<path fill=\"none\" stroke=\"black\" d=\"M1054.1,-99.5C1061.61,-99.5 1070.33,-99.5 1079.75,-99.5\"/>\n",
       "<polygon fill=\"black\" stroke=\"black\" points=\"1079.78,-103 1089.78,-99.5 1079.78,-96 1079.78,-103\"/>\n",
       "</g>\n",
       "<!-- 139819301710992 -->\n",
       "<g id=\"node6\" class=\"node\">\n",
       "<title>139819301710992</title>\n",
       "<polygon fill=\"none\" stroke=\"black\" points=\"0,-55.5 0,-91.5 237,-91.5 237,-55.5 0,-55.5\"/>\n",
       "<text text-anchor=\"middle\" x=\"13\" y=\"-69.8\" font-family=\"Times,serif\" font-size=\"14.00\">b</text>\n",
       "<polyline fill=\"none\" stroke=\"black\" points=\"26,-55.5 26,-91.5 \"/>\n",
       "<text text-anchor=\"middle\" x=\"79.5\" y=\"-69.8\" font-family=\"Times,serif\" font-size=\"14.00\">data &#45;3.0000</text>\n",
       "<polyline fill=\"none\" stroke=\"black\" points=\"133,-55.5 133,-91.5 \"/>\n",
       "<text text-anchor=\"middle\" x=\"185\" y=\"-69.8\" font-family=\"Times,serif\" font-size=\"14.00\">grad 0.0000</text>\n",
       "</g>\n",
       "<!-- 139819301710224* -->\n",
       "<g id=\"node10\" class=\"node\">\n",
       "<title>139819301710224*</title>\n",
       "<ellipse fill=\"none\" stroke=\"black\" cx=\"300\" cy=\"-45.5\" rx=\"27\" ry=\"18\"/>\n",
       "<text text-anchor=\"middle\" x=\"300\" y=\"-41.8\" font-family=\"Times,serif\" font-size=\"14.00\">*</text>\n",
       "</g>\n",
       "<!-- 139819301710992&#45;&gt;139819301710224* -->\n",
       "<g id=\"edge8\" class=\"edge\">\n",
       "<title>139819301710992&#45;&gt;139819301710224*</title>\n",
       "<path fill=\"none\" stroke=\"black\" d=\"M234.96,-55.49C245.12,-53.91 254.8,-52.4 263.41,-51.05\"/>\n",
       "<polygon fill=\"black\" stroke=\"black\" points=\"264.02,-54.5 273.36,-49.5 262.94,-47.58 264.02,-54.5\"/>\n",
       "</g>\n",
       "<!-- 139819301708432 -->\n",
       "<g id=\"node7\" class=\"node\">\n",
       "<title>139819301708432</title>\n",
       "<polygon fill=\"none\" stroke=\"black\" points=\"3,-0.5 3,-36.5 234,-36.5 234,-0.5 3,-0.5\"/>\n",
       "<text text-anchor=\"middle\" x=\"15.5\" y=\"-14.8\" font-family=\"Times,serif\" font-size=\"14.00\">a</text>\n",
       "<polyline fill=\"none\" stroke=\"black\" points=\"28,-0.5 28,-36.5 \"/>\n",
       "<text text-anchor=\"middle\" x=\"79\" y=\"-14.8\" font-family=\"Times,serif\" font-size=\"14.00\">data 2.0000</text>\n",
       "<polyline fill=\"none\" stroke=\"black\" points=\"130,-0.5 130,-36.5 \"/>\n",
       "<text text-anchor=\"middle\" x=\"182\" y=\"-14.8\" font-family=\"Times,serif\" font-size=\"14.00\">grad 0.0000</text>\n",
       "</g>\n",
       "<!-- 139819301708432&#45;&gt;139819301710224* -->\n",
       "<g id=\"edge5\" class=\"edge\">\n",
       "<title>139819301708432&#45;&gt;139819301710224*</title>\n",
       "<path fill=\"none\" stroke=\"black\" d=\"M234.2,-35.75C244.55,-37.31 254.43,-38.8 263.21,-40.12\"/>\n",
       "<polygon fill=\"black\" stroke=\"black\" points=\"262.92,-43.61 273.33,-41.64 263.96,-36.69 262.92,-43.61\"/>\n",
       "</g>\n",
       "<!-- 139819301708560 -->\n",
       "<g id=\"node8\" class=\"node\">\n",
       "<title>139819301708560</title>\n",
       "<polygon fill=\"none\" stroke=\"black\" points=\"729.5,-109.5 729.5,-145.5 962.5,-145.5 962.5,-109.5 729.5,-109.5\"/>\n",
       "<text text-anchor=\"middle\" x=\"740.5\" y=\"-123.8\" font-family=\"Times,serif\" font-size=\"14.00\">f</text>\n",
       "<polyline fill=\"none\" stroke=\"black\" points=\"751.5,-109.5 751.5,-145.5 \"/>\n",
       "<text text-anchor=\"middle\" x=\"805\" y=\"-123.8\" font-family=\"Times,serif\" font-size=\"14.00\">data &#45;2.0000</text>\n",
       "<polyline fill=\"none\" stroke=\"black\" points=\"858.5,-109.5 858.5,-145.5 \"/>\n",
       "<text text-anchor=\"middle\" x=\"910.5\" y=\"-123.8\" font-family=\"Times,serif\" font-size=\"14.00\">grad 4.0000</text>\n",
       "</g>\n",
       "<!-- 139819301708560&#45;&gt;139819301711440* -->\n",
       "<g id=\"edge4\" class=\"edge\">\n",
       "<title>139819301708560&#45;&gt;139819301711440*</title>\n",
       "<path fill=\"none\" stroke=\"black\" d=\"M962.13,-109.49C972.27,-107.91 981.92,-106.4 990.51,-105.05\"/>\n",
       "<polygon fill=\"black\" stroke=\"black\" points=\"991.09,-108.5 1000.43,-103.5 990.01,-101.59 991.09,-108.5\"/>\n",
       "</g>\n",
       "<!-- 139819301710224 -->\n",
       "<g id=\"node9\" class=\"node\">\n",
       "<title>139819301710224</title>\n",
       "<polygon fill=\"none\" stroke=\"black\" points=\"364.5,-27.5 364.5,-63.5 600.5,-63.5 600.5,-27.5 364.5,-27.5\"/>\n",
       "<text text-anchor=\"middle\" x=\"377\" y=\"-41.8\" font-family=\"Times,serif\" font-size=\"14.00\">e</text>\n",
       "<polyline fill=\"none\" stroke=\"black\" points=\"389.5,-27.5 389.5,-63.5 \"/>\n",
       "<text text-anchor=\"middle\" x=\"443\" y=\"-41.8\" font-family=\"Times,serif\" font-size=\"14.00\">data &#45;6.0000</text>\n",
       "<polyline fill=\"none\" stroke=\"black\" points=\"496.5,-27.5 496.5,-63.5 \"/>\n",
       "<text text-anchor=\"middle\" x=\"548.5\" y=\"-41.8\" font-family=\"Times,serif\" font-size=\"14.00\">grad 0.0000</text>\n",
       "</g>\n",
       "<!-- 139819301710224&#45;&gt;139819301708816+ -->\n",
       "<g id=\"edge7\" class=\"edge\">\n",
       "<title>139819301710224&#45;&gt;139819301708816+</title>\n",
       "<path fill=\"none\" stroke=\"black\" d=\"M600.62,-63.02C610.5,-64.5 619.9,-65.9 628.3,-67.16\"/>\n",
       "<polygon fill=\"black\" stroke=\"black\" points=\"627.95,-70.65 638.36,-68.66 628.99,-63.72 627.95,-70.65\"/>\n",
       "</g>\n",
       "<!-- 139819301710224*&#45;&gt;139819301710224 -->\n",
       "<g id=\"edge3\" class=\"edge\">\n",
       "<title>139819301710224*&#45;&gt;139819301710224</title>\n",
       "<path fill=\"none\" stroke=\"black\" d=\"M327.25,-45.5C335.09,-45.5 344.27,-45.5 354.17,-45.5\"/>\n",
       "<polygon fill=\"black\" stroke=\"black\" points=\"354.28,-49 364.28,-45.5 354.28,-42 354.28,-49\"/>\n",
       "</g>\n",
       "</g>\n",
       "</svg>\n"
      ],
      "text/plain": [
       "<graphviz.graphs.Digraph at 0x7f2aa3fda250>"
      ]
     },
     "execution_count": 24,
     "metadata": {},
     "output_type": "execute_result"
    }
   ],
   "source": [
    "draw_dot(L)"
   ]
  },
  {
   "cell_type": "markdown",
   "id": "1d627b39",
   "metadata": {},
   "source": []
  },
  {
   "cell_type": "markdown",
   "id": "4fd955db",
   "metadata": {},
   "source": [
    "Lets recap:\n",
    "- we are able to build out mathematical expressions using + and *\n",
    "- Added and tracked grad so we can calculate and update this state later when we do backpropagtion\n",
    "- Forward pass that produces output L and visualized\n",
    "- Now we want to do backpropagation"
   ]
  },
  {
   "cell_type": "markdown",
   "id": "e1e720d9",
   "metadata": {},
   "source": [
    "<a id=3></a>\n",
    "# Manual Backpropagation"
   ]
  },
  {
   "cell_type": "markdown",
   "id": "b2d36988",
   "metadata": {},
   "source": [
    "Lets manually nudge the variable a and manually calculate the derivative of L with respect to a, lets create a gating function lol so we don't pollute the global scope. We can do this for each variable to calculate their derivative with respect to L"
   ]
  },
  {
   "attachments": {
    "image.png": {
     "image/png": "[encoded data removed]"
    }
   },
   "cell_type": "markdown",
   "id": "905916d6",
   "metadata": {},
   "source": [
    "![image.png](attachment:image.png)"
   ]
  },
  {
   "cell_type": "markdown",
   "id": "07723f2d",
   "metadata": {},
   "source": [
    "### $L = d * f$\n",
    "### $\\frac{dL}{dd} =? f$\n",
    "### $lim_{h \\to 0} \\frac{(d+h)*f - d*f}{h}$ \n",
    "### $lim_{h \\to 0} \\frac{d*f + h*f - d*f}{h}$ \n",
    "### $lim_{h \\to 0} \\frac{h*f}{h}$ \n",
    "### $f$ \n",
    "So we can see that f.grad is just the value of d which is 4.0 and d.grad is just the value of f which is -2.0, lets go ahead and manually set these"
   ]
  },
  {
   "cell_type": "code",
   "execution_count": 23,
   "id": "3bd95621",
   "metadata": {},
   "outputs": [],
   "source": [
    "f.grad = 4.0\n",
    "d.grad = -2.0"
   ]
  },
  {
   "cell_type": "code",
   "execution_count": 21,
   "id": "5fb04e5a",
   "metadata": {},
   "outputs": [],
   "source": [
    "L.grad = 1"
   ]
  },
  {
   "cell_type": "code",
   "execution_count": 25,
   "id": "585825a0",
   "metadata": {},
   "outputs": [
    {
     "name": "stdout",
     "output_type": "stream",
     "text": [
      "-1.9999999999953388\n"
     ]
    }
   ],
   "source": [
    "def lol():\n",
    "    \n",
    "    h = 0.0001\n",
    "    \n",
    "    a = Value(2.0, label='a')\n",
    "    b = Value(-3.0, label='b')\n",
    "    c = Value(10.0, label='c')\n",
    "    e = a*b; e.label = 'e'\n",
    "    d = e + c; d.label = 'd'\n",
    "    f = Value(-2.0, label='f')\n",
    "    L = d * f; L.label = 'L'\n",
    "    L1 = L.data\n",
    "    \n",
    "    # this is the variable we are nudging by h\n",
    "    a = Value(2.0 , label='a')\n",
    "    b = Value(-3.0, label='b')\n",
    "    c = Value(10.0, label='c')\n",
    "    e = a*b; e.label = 'e'\n",
    "    d = e + c; d.label = 'd'\n",
    "    d.data += h\n",
    "    f = Value(-2.0, label='f')\n",
    "    L = d * f; L.label = 'L'\n",
    "    L2 = L.data\n",
    "    \n",
    "    print((L2-L1)/h)\n",
    "lol()"
   ]
  },
  {
   "cell_type": "markdown",
   "id": "eacd4af9",
   "metadata": {},
   "source": [
    "So we have just derived the derivates of f and d with respect to L in a step by step way, now next will uncover the core of backpropagation, we want derive the derivative of L with respect to c and e. </br>\n",
    "We now know how L is sensitive to d and we know how e and c are sensitive to d, we can know put that together to figure out how L is sensitive to e and c."
   ]
  },
  {
   "cell_type": "markdown",
   "id": "257b656e",
   "metadata": {},
   "source": [
    "### If a variable z depends on the variable y, which itself depends on the variable x (that is, y and z are dependent variables), then z depends on x as well, via the intermediate variable y. In this case, the chain rule is expressed as\n",
    "# $\\frac{dz}{dx} = \\frac{dz}{dy} * \\frac{dy}{dx}$\n",
    "The chain rule is fundamentally telling you how we chain these derivatives together correctly so to differentiate through a function composition we have to apply a multiplication of those derivatives </br>\n",
    "```The inuitive explanation here is that knowing the instantaneous rate of change of z with respect to y and y relative to x allows one to calculate the instantaneous rate of change of z```"
   ]
  },
  {
   "cell_type": "markdown",
   "id": "5c004760",
   "metadata": {},
   "source": [
    "### If a car travels twice as fast as a bicyle and the cycle is four times as fast as a walking man then the car is 2 * 4 = 8 times faster than the man"
   ]
  },
  {
   "cell_type": "code",
   "execution_count": null,
   "id": "40bf34cb",
   "metadata": {},
   "outputs": [],
   "source": []
  }
 ],
 "metadata": {
  "kernelspec": {
   "display_name": "fsdl",
   "language": "python",
   "name": "fsdl"
  },
  "language_info": {
   "codemirror_mode": {
    "name": "ipython",
    "version": 3
   },
   "file_extension": ".py",
   "mimetype": "text/x-python",
   "name": "python",
   "nbconvert_exporter": "python",
   "pygments_lexer": "ipython3",
   "version": "3.7.12"
  },
  "varInspector": {
   "cols": {
    "lenName": 16,
    "lenType": 16,
    "lenVar": 40
   },
   "kernels_config": {
    "python": {
     "delete_cmd_postfix": "",
     "delete_cmd_prefix": "del ",
     "library": "var_list.py",
     "varRefreshCmd": "print(var_dic_list())"
    },
    "r": {
     "delete_cmd_postfix": ") ",
     "delete_cmd_prefix": "rm(",
     "library": "var_list.r",
     "varRefreshCmd": "cat(var_dic_list()) "
    }
   },
   "types_to_exclude": [
    "module",
    "function",
    "builtin_function_or_method",
    "instance",
    "_Feature"
   ],
   "window_display": false
  }
 },
 "nbformat": 4,
 "nbformat_minor": 5
}
