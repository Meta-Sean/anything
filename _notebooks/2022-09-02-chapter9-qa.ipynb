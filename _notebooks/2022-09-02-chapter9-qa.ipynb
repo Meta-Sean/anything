{
 "cells": [
  {
   "cell_type": "markdown",
   "metadata": {},
   "source": [
    "What is a continuous variable?\n",
    "- numerical data that is unbounded"
   ]
  },
  {
   "cell_type": "markdown",
   "metadata": {},
   "source": [
    "What is a categorical variable?\n",
    "- discrete levels"
   ]
  },
  {
   "cell_type": "markdown",
   "metadata": {},
   "source": [
    "Provide two of the words that are used for the possible values of a categorical variable."
   ]
  },
  {
   "cell_type": "markdown",
   "metadata": {},
   "source": [
    "What is a \"dense layer\"?\n",
    "- linear layer and one-hot encoding layers represent inputs\n"
   ]
  },
  {
   "cell_type": "markdown",
   "metadata": {},
   "source": [
    "How do entity embeddings reduce memory usage and speed up neural networks?"
   ]
  },
  {
   "cell_type": "markdown",
   "metadata": {},
   "source": [
    "What kinds of datasets are entity embeddings especially useful for?"
   ]
  },
  {
   "cell_type": "markdown",
   "metadata": {},
   "source": [
    "What are the two main families of machine learning algorithms?\n",
    "- Ensembles of decision trees\n",
    "- Multilayered neural networks learned with SGD(i.e, shallow and/or deep learning), mainly for unstructured data (such as audio, images, and natural language)"
   ]
  },
  {
   "cell_type": "markdown",
   "metadata": {},
   "source": [
    "Why do some categorical columns need a special ordering in their classes? How do you do this in Pandas?\n",
    " - The data is ordinal\n",
    " - df.cat.set_categories(['columns']*, ordered=True, inplace=True)"
   ]
  },
  {
   "cell_type": "markdown",
   "metadata": {},
   "source": [
    "Summarize what a decision tree algorithm does.\n",
    "- Asks a series of binary questions about the data and splits until a leaf node where the prediction is returned"
   ]
  },
  {
   "cell_type": "markdown",
   "metadata": {},
   "source": [
    "Why is a date different from a regular categorical or continuous variable, and how can you preprocess it to allow it to be used in a model?\n",
    "- While a date can be treated as ordinal, some dates are qualitatively different from others in ways that might be useful to the systems we are modeling.\n",
    "- We replace every date column with a set of date metadata columns, such as holiday, day of the week, and moenth. These columns provide categorical data that we suspect will be useful."
   ]
  },
  {
   "cell_type": "markdown",
   "metadata": {},
   "source": [
    "Should you pick a random validation set in the bulldozer competition? If no, what kind of validation set should you pick?\n",
    "- No, for time-series data we need our model to be able to predict the future\n",
    "- We want the validation set to be later in time than the training set.\n",
    "- To do this is use np.where, a useful function that returns(as the first element of a tuple) the indices of all True values"
   ]
  },
  {
   "cell_type": "markdown",
   "metadata": {},
   "source": [
    "What is pickle and what is it useful for?\n",
    "- Python's system to save a Python object\n",
    "- Allows of to 'freeze' a file \n",
    "- Side note: not a secure process and should trust files you unpickle"
   ]
  },
  {
   "cell_type": "markdown",
   "metadata": {},
   "source": [
    "How are mse, samples, and values calculated in the decision tree drawn in this chapter?\n",
    "- mse is the square root of the mean of the pred minus actual squared\n",
    "- samples where just 500 random permutations of indexes \n",
    "- Values is average value for all the records in the node"
   ]
  },
  {
   "cell_type": "markdown",
   "metadata": {},
   "source": [
    "How do we deal with outliers, before building a decision tree?\n",
    "- Check for errors in your data, the outliers might be an error(ie. in the bulldozer competition a large number of reported sales happened during 1000)\n",
    "- We can take the log of the numerical / continuous column to smooth the outlier\n",
    "- "
   ]
  },
  {
   "cell_type": "markdown",
   "metadata": {},
   "source": [
    "How do we handle categorical variables in a decision tree?\n",
    "- Decision trees naturally split data in a way that gives the categorical variables context, but we can also use pandas get_dummies to replace a single categorical variable with multiple one_hot_encoded columns"
   ]
  },
  {
   "cell_type": "markdown",
   "metadata": {},
   "source": [
    "What is bagging?\n",
    "- An ensemble technique that aggregators multiple predictions from many models"
   ]
  },
  {
   "cell_type": "markdown",
   "metadata": {},
   "source": [
    "What is the difference between max_samples and max_features when creating a random forest?\n",
    "- max_samples defines how many rows to sample for training each tree\n",
    "- max_features defines how many columns to sample at each split point"
   ]
  },
  {
   "cell_type": "markdown",
   "metadata": {},
   "source": [
    "If you increase n_estimators to a very high value, can that lead to overfitting? Why or why not?\n",
    "- n_estimators is the number of trees we want\n",
    "- You can set the number as high as you have time to train, it will get more accurate with diminishing returns\n",
    "- Yes it can lead to over fitting"
   ]
  },
  {
   "cell_type": "markdown",
   "metadata": {},
   "source": [
    "In the section \"Creating a Random Forest\", just after <>, why did preds.mean(0) give the same result as our random forest?"
   ]
  },
  {
   "cell_type": "markdown",
   "metadata": {},
   "source": [
    "What is \"out-of-bag-error\"?\n",
    "- OOB error is a way of measuring prediction error on the training set by only including in the calculation of a row's error tres where that row was not included in training. This allows us to see whether the model is overfitting, without needing a separate validation set. "
   ]
  },
  {
   "cell_type": "markdown",
   "metadata": {},
   "source": [
    "Make a list of reasons why a model's validation set error might be worse than the OOB error. How could you test your hypotheses?\n",
    "- Beneficial when we have only a small amount of training data\n",
    "- We can compare then to the training labels "
   ]
  },
  {
   "cell_type": "markdown",
   "metadata": {},
   "source": [
    "Explain why random forests are well suited to answering each of the following question:\n",
    "- How confident are we in our predictions using a particular row of data?\n",
    "    - We can use the standard deviation of predictions across the trees, instead of just the means\n",
    "- For predicting with a particular row of data, what were the most important factors, and how did they influence that - prediction?\n",
    "    - Year Made and Product Size\n",
    "- Which columns are the strongest predictors?\n",
    "    - The feature importance for our model show that the first few important columns have much higher importance scores that the rest. \n",
    "- How do predictions vary as we vary these columns?"
   ]
  },
  {
   "cell_type": "markdown",
   "metadata": {},
   "source": [
    "What's the purpose of removing unimportant variables?\n",
    "-  Makes for a simpler, more interpretable model that is easier to maintain and roll out."
   ]
  },
  {
   "cell_type": "markdown",
   "metadata": {},
   "source": [
    "What's a good type of plot for showing tree interpreter results?\n",
    "- cluster_columns"
   ]
  },
  {
   "cell_type": "markdown",
   "metadata": {},
   "source": [
    "What is the \"extrapolation problem\"?"
   ]
  },
  {
   "cell_type": "markdown",
   "metadata": {},
   "source": [
    "How can you tell if your test or validation set is distributed in a different way than your training set?"
   ]
  },
  {
   "cell_type": "markdown",
   "metadata": {},
   "source": [
    "Why do we ensure saleElapsed is a continuous variable, even although it has less than 9,000 distinct values?"
   ]
  },
  {
   "cell_type": "markdown",
   "metadata": {},
   "source": [
    "What is \"boosting\"?"
   ]
  },
  {
   "cell_type": "markdown",
   "metadata": {},
   "source": [
    "How could we use embeddings with a random forest? Would we expect this to help?"
   ]
  },
  {
   "cell_type": "markdown",
   "metadata": {},
   "source": [
    "Why might we not always use a neural net for tabular modeling?"
   ]
  },
  {
   "cell_type": "markdown",
   "metadata": {},
   "source": []
  }
 ],
 "metadata": {
  "language_info": {
   "name": "python"
  },
  "orig_nbformat": 4
 },
 "nbformat": 4,
 "nbformat_minor": 2
}
